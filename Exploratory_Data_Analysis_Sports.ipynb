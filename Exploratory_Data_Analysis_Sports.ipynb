{
  "cells": [
    {
      "cell_type": "markdown",
      "metadata": {
        "id": "ab4g38FQStKt"
      },
      "source": [
        "### Sheetal Munde\n",
        "\n",
        "# TASK - Exploratory Data Analysis - Sports\n",
        "- Problem Statement: Perform Exploratory Data Analysis on 'Indian Premiere League' <br>\n",
        "\n",
        "- As a sports analysts, find out the most successful teams, players and factors contributing win or loss of a team.<br>\n",
        "\n",
        "- Suggest teams or players a company should endorse for its products.<br>"
      ]
    },
    {
      "cell_type": "markdown",
      "metadata": {
        "id": "bH2A9xGFStK1"
      },
      "source": [
        "### Importing LIBRARIES:"
      ]
    },
    {
      "cell_type": "code",
      "execution_count": 44,
      "metadata": {
        "id": "qHW8zfOHStK2"
      },
      "outputs": [],
      "source": [
        "import pandas as pd\n",
        "import numpy as np\n",
        "import matplotlib.pyplot as plt\n",
        "import seaborn as sns\n",
        "%matplotlib inline"
      ]
    },
    {
      "cell_type": "markdown",
      "metadata": {
        "id": "a4ThbcD2StK3"
      },
      "source": [
        "### Loading 1st Dataset "
      ]
    },
    {
      "cell_type": "code",
      "execution_count": 45,
      "metadata": {
        "id": "OTlP8NHCStK4"
      },
      "outputs": [],
      "source": [
        "matches = pd.read_csv(\"Dataset\\\\matches.csv\")"
      ]
    },
    {
      "cell_type": "code",
      "execution_count": 46,
      "metadata": {
        "colab": {
          "base_uri": "https://localhost:8080/",
          "height": 677
        },
        "id": "qoggNq0LStK4",
        "outputId": "80bb69f6-c5a5-493e-e38f-0aa0b626fd5e"
      },
      "outputs": [
        {
          "data": {
            "text/html": [
              "<div>\n",
              "<style scoped>\n",
              "    .dataframe tbody tr th:only-of-type {\n",
              "        vertical-align: middle;\n",
              "    }\n",
              "\n",
              "    .dataframe tbody tr th {\n",
              "        vertical-align: top;\n",
              "    }\n",
              "\n",
              "    .dataframe thead th {\n",
              "        text-align: right;\n",
              "    }\n",
              "</style>\n",
              "<table border=\"1\" class=\"dataframe\">\n",
              "  <thead>\n",
              "    <tr style=\"text-align: right;\">\n",
              "      <th></th>\n",
              "      <th>id</th>\n",
              "      <th>season</th>\n",
              "      <th>city</th>\n",
              "      <th>date</th>\n",
              "      <th>team1</th>\n",
              "      <th>team2</th>\n",
              "      <th>toss_winner</th>\n",
              "      <th>toss_decision</th>\n",
              "      <th>result</th>\n",
              "      <th>dl_applied</th>\n",
              "      <th>winner</th>\n",
              "      <th>win_by_runs</th>\n",
              "      <th>win_by_wickets</th>\n",
              "      <th>player_of_match</th>\n",
              "      <th>venue</th>\n",
              "      <th>umpire1</th>\n",
              "      <th>umpire2</th>\n",
              "      <th>umpire3</th>\n",
              "    </tr>\n",
              "  </thead>\n",
              "  <tbody>\n",
              "    <tr>\n",
              "      <th>0</th>\n",
              "      <td>1</td>\n",
              "      <td>2017</td>\n",
              "      <td>Hyderabad</td>\n",
              "      <td>2017-04-05</td>\n",
              "      <td>Sunrisers Hyderabad</td>\n",
              "      <td>Royal Challengers Bangalore</td>\n",
              "      <td>Royal Challengers Bangalore</td>\n",
              "      <td>field</td>\n",
              "      <td>normal</td>\n",
              "      <td>0</td>\n",
              "      <td>Sunrisers Hyderabad</td>\n",
              "      <td>35</td>\n",
              "      <td>0</td>\n",
              "      <td>Yuvraj Singh</td>\n",
              "      <td>Rajiv Gandhi International Stadium, Uppal</td>\n",
              "      <td>AY Dandekar</td>\n",
              "      <td>NJ Llong</td>\n",
              "      <td>NaN</td>\n",
              "    </tr>\n",
              "    <tr>\n",
              "      <th>1</th>\n",
              "      <td>2</td>\n",
              "      <td>2017</td>\n",
              "      <td>Pune</td>\n",
              "      <td>2017-04-06</td>\n",
              "      <td>Mumbai Indians</td>\n",
              "      <td>Rising Pune Supergiant</td>\n",
              "      <td>Rising Pune Supergiant</td>\n",
              "      <td>field</td>\n",
              "      <td>normal</td>\n",
              "      <td>0</td>\n",
              "      <td>Rising Pune Supergiant</td>\n",
              "      <td>0</td>\n",
              "      <td>7</td>\n",
              "      <td>SPD Smith</td>\n",
              "      <td>Maharashtra Cricket Association Stadium</td>\n",
              "      <td>A Nand Kishore</td>\n",
              "      <td>S Ravi</td>\n",
              "      <td>NaN</td>\n",
              "    </tr>\n",
              "    <tr>\n",
              "      <th>2</th>\n",
              "      <td>3</td>\n",
              "      <td>2017</td>\n",
              "      <td>Rajkot</td>\n",
              "      <td>2017-04-07</td>\n",
              "      <td>Gujarat Lions</td>\n",
              "      <td>Kolkata Knight Riders</td>\n",
              "      <td>Kolkata Knight Riders</td>\n",
              "      <td>field</td>\n",
              "      <td>normal</td>\n",
              "      <td>0</td>\n",
              "      <td>Kolkata Knight Riders</td>\n",
              "      <td>0</td>\n",
              "      <td>10</td>\n",
              "      <td>CA Lynn</td>\n",
              "      <td>Saurashtra Cricket Association Stadium</td>\n",
              "      <td>Nitin Menon</td>\n",
              "      <td>CK Nandan</td>\n",
              "      <td>NaN</td>\n",
              "    </tr>\n",
              "    <tr>\n",
              "      <th>3</th>\n",
              "      <td>4</td>\n",
              "      <td>2017</td>\n",
              "      <td>Indore</td>\n",
              "      <td>2017-04-08</td>\n",
              "      <td>Rising Pune Supergiant</td>\n",
              "      <td>Kings XI Punjab</td>\n",
              "      <td>Kings XI Punjab</td>\n",
              "      <td>field</td>\n",
              "      <td>normal</td>\n",
              "      <td>0</td>\n",
              "      <td>Kings XI Punjab</td>\n",
              "      <td>0</td>\n",
              "      <td>6</td>\n",
              "      <td>GJ Maxwell</td>\n",
              "      <td>Holkar Cricket Stadium</td>\n",
              "      <td>AK Chaudhary</td>\n",
              "      <td>C Shamshuddin</td>\n",
              "      <td>NaN</td>\n",
              "    </tr>\n",
              "    <tr>\n",
              "      <th>4</th>\n",
              "      <td>5</td>\n",
              "      <td>2017</td>\n",
              "      <td>Bangalore</td>\n",
              "      <td>2017-04-08</td>\n",
              "      <td>Royal Challengers Bangalore</td>\n",
              "      <td>Delhi Daredevils</td>\n",
              "      <td>Royal Challengers Bangalore</td>\n",
              "      <td>bat</td>\n",
              "      <td>normal</td>\n",
              "      <td>0</td>\n",
              "      <td>Royal Challengers Bangalore</td>\n",
              "      <td>15</td>\n",
              "      <td>0</td>\n",
              "      <td>KM Jadhav</td>\n",
              "      <td>M Chinnaswamy Stadium</td>\n",
              "      <td>NaN</td>\n",
              "      <td>NaN</td>\n",
              "      <td>NaN</td>\n",
              "    </tr>\n",
              "    <tr>\n",
              "      <th>5</th>\n",
              "      <td>6</td>\n",
              "      <td>2017</td>\n",
              "      <td>Hyderabad</td>\n",
              "      <td>2017-04-09</td>\n",
              "      <td>Gujarat Lions</td>\n",
              "      <td>Sunrisers Hyderabad</td>\n",
              "      <td>Sunrisers Hyderabad</td>\n",
              "      <td>field</td>\n",
              "      <td>normal</td>\n",
              "      <td>0</td>\n",
              "      <td>Sunrisers Hyderabad</td>\n",
              "      <td>0</td>\n",
              "      <td>9</td>\n",
              "      <td>Rashid Khan</td>\n",
              "      <td>Rajiv Gandhi International Stadium, Uppal</td>\n",
              "      <td>A Deshmukh</td>\n",
              "      <td>NJ Llong</td>\n",
              "      <td>NaN</td>\n",
              "    </tr>\n",
              "    <tr>\n",
              "      <th>6</th>\n",
              "      <td>7</td>\n",
              "      <td>2017</td>\n",
              "      <td>Mumbai</td>\n",
              "      <td>2017-04-09</td>\n",
              "      <td>Kolkata Knight Riders</td>\n",
              "      <td>Mumbai Indians</td>\n",
              "      <td>Mumbai Indians</td>\n",
              "      <td>field</td>\n",
              "      <td>normal</td>\n",
              "      <td>0</td>\n",
              "      <td>Mumbai Indians</td>\n",
              "      <td>0</td>\n",
              "      <td>4</td>\n",
              "      <td>N Rana</td>\n",
              "      <td>Wankhede Stadium</td>\n",
              "      <td>Nitin Menon</td>\n",
              "      <td>CK Nandan</td>\n",
              "      <td>NaN</td>\n",
              "    </tr>\n",
              "  </tbody>\n",
              "</table>\n",
              "</div>"
            ],
            "text/plain": [
              "   id  season       city        date                        team1  \\\n",
              "0   1    2017  Hyderabad  2017-04-05          Sunrisers Hyderabad   \n",
              "1   2    2017       Pune  2017-04-06               Mumbai Indians   \n",
              "2   3    2017     Rajkot  2017-04-07                Gujarat Lions   \n",
              "3   4    2017     Indore  2017-04-08       Rising Pune Supergiant   \n",
              "4   5    2017  Bangalore  2017-04-08  Royal Challengers Bangalore   \n",
              "5   6    2017  Hyderabad  2017-04-09                Gujarat Lions   \n",
              "6   7    2017     Mumbai  2017-04-09        Kolkata Knight Riders   \n",
              "\n",
              "                         team2                  toss_winner toss_decision  \\\n",
              "0  Royal Challengers Bangalore  Royal Challengers Bangalore         field   \n",
              "1       Rising Pune Supergiant       Rising Pune Supergiant         field   \n",
              "2        Kolkata Knight Riders        Kolkata Knight Riders         field   \n",
              "3              Kings XI Punjab              Kings XI Punjab         field   \n",
              "4             Delhi Daredevils  Royal Challengers Bangalore           bat   \n",
              "5          Sunrisers Hyderabad          Sunrisers Hyderabad         field   \n",
              "6               Mumbai Indians               Mumbai Indians         field   \n",
              "\n",
              "   result  dl_applied                       winner  win_by_runs  \\\n",
              "0  normal           0          Sunrisers Hyderabad           35   \n",
              "1  normal           0       Rising Pune Supergiant            0   \n",
              "2  normal           0        Kolkata Knight Riders            0   \n",
              "3  normal           0              Kings XI Punjab            0   \n",
              "4  normal           0  Royal Challengers Bangalore           15   \n",
              "5  normal           0          Sunrisers Hyderabad            0   \n",
              "6  normal           0               Mumbai Indians            0   \n",
              "\n",
              "   win_by_wickets player_of_match                                      venue  \\\n",
              "0               0    Yuvraj Singh  Rajiv Gandhi International Stadium, Uppal   \n",
              "1               7       SPD Smith    Maharashtra Cricket Association Stadium   \n",
              "2              10         CA Lynn     Saurashtra Cricket Association Stadium   \n",
              "3               6      GJ Maxwell                     Holkar Cricket Stadium   \n",
              "4               0       KM Jadhav                      M Chinnaswamy Stadium   \n",
              "5               9     Rashid Khan  Rajiv Gandhi International Stadium, Uppal   \n",
              "6               4          N Rana                           Wankhede Stadium   \n",
              "\n",
              "          umpire1        umpire2 umpire3  \n",
              "0     AY Dandekar       NJ Llong     NaN  \n",
              "1  A Nand Kishore         S Ravi     NaN  \n",
              "2     Nitin Menon      CK Nandan     NaN  \n",
              "3    AK Chaudhary  C Shamshuddin     NaN  \n",
              "4             NaN            NaN     NaN  \n",
              "5      A Deshmukh       NJ Llong     NaN  \n",
              "6     Nitin Menon      CK Nandan     NaN  "
            ]
          },
          "execution_count": 46,
          "metadata": {},
          "output_type": "execute_result"
        }
      ],
      "source": [
        "matches.head(n=7)"
      ]
    },
    {
      "cell_type": "code",
      "execution_count": 47,
      "metadata": {
        "colab": {
          "base_uri": "https://localhost:8080/",
          "height": 426
        },
        "id": "Kn3ljARJStK6",
        "outputId": "1a7b867d-5a41-433d-d4de-b91731be2083"
      },
      "outputs": [
        {
          "data": {
            "text/html": [
              "<div>\n",
              "<style scoped>\n",
              "    .dataframe tbody tr th:only-of-type {\n",
              "        vertical-align: middle;\n",
              "    }\n",
              "\n",
              "    .dataframe tbody tr th {\n",
              "        vertical-align: top;\n",
              "    }\n",
              "\n",
              "    .dataframe thead th {\n",
              "        text-align: right;\n",
              "    }\n",
              "</style>\n",
              "<table border=\"1\" class=\"dataframe\">\n",
              "  <thead>\n",
              "    <tr style=\"text-align: right;\">\n",
              "      <th></th>\n",
              "      <th>id</th>\n",
              "      <th>season</th>\n",
              "      <th>city</th>\n",
              "      <th>date</th>\n",
              "      <th>team1</th>\n",
              "      <th>team2</th>\n",
              "      <th>toss_winner</th>\n",
              "      <th>toss_decision</th>\n",
              "      <th>result</th>\n",
              "      <th>dl_applied</th>\n",
              "      <th>winner</th>\n",
              "      <th>win_by_runs</th>\n",
              "      <th>win_by_wickets</th>\n",
              "      <th>player_of_match</th>\n",
              "      <th>venue</th>\n",
              "      <th>umpire1</th>\n",
              "      <th>umpire2</th>\n",
              "      <th>umpire3</th>\n",
              "    </tr>\n",
              "  </thead>\n",
              "  <tbody>\n",
              "    <tr>\n",
              "      <th>751</th>\n",
              "      <td>11347</td>\n",
              "      <td>2019</td>\n",
              "      <td>Mumbai</td>\n",
              "      <td>05/05/19</td>\n",
              "      <td>Kolkata Knight Riders</td>\n",
              "      <td>Mumbai Indians</td>\n",
              "      <td>Mumbai Indians</td>\n",
              "      <td>field</td>\n",
              "      <td>normal</td>\n",
              "      <td>0</td>\n",
              "      <td>Mumbai Indians</td>\n",
              "      <td>0</td>\n",
              "      <td>9</td>\n",
              "      <td>HH Pandya</td>\n",
              "      <td>Wankhede Stadium</td>\n",
              "      <td>Nanda Kishore</td>\n",
              "      <td>O Nandan</td>\n",
              "      <td>S Ravi</td>\n",
              "    </tr>\n",
              "    <tr>\n",
              "      <th>752</th>\n",
              "      <td>11412</td>\n",
              "      <td>2019</td>\n",
              "      <td>Chennai</td>\n",
              "      <td>07/05/19</td>\n",
              "      <td>Chennai Super Kings</td>\n",
              "      <td>Mumbai Indians</td>\n",
              "      <td>Chennai Super Kings</td>\n",
              "      <td>bat</td>\n",
              "      <td>normal</td>\n",
              "      <td>0</td>\n",
              "      <td>Mumbai Indians</td>\n",
              "      <td>0</td>\n",
              "      <td>6</td>\n",
              "      <td>AS Yadav</td>\n",
              "      <td>M. A. Chidambaram Stadium</td>\n",
              "      <td>Nigel Llong</td>\n",
              "      <td>Nitin Menon</td>\n",
              "      <td>Ian Gould</td>\n",
              "    </tr>\n",
              "    <tr>\n",
              "      <th>753</th>\n",
              "      <td>11413</td>\n",
              "      <td>2019</td>\n",
              "      <td>Visakhapatnam</td>\n",
              "      <td>08/05/19</td>\n",
              "      <td>Sunrisers Hyderabad</td>\n",
              "      <td>Delhi Capitals</td>\n",
              "      <td>Delhi Capitals</td>\n",
              "      <td>field</td>\n",
              "      <td>normal</td>\n",
              "      <td>0</td>\n",
              "      <td>Delhi Capitals</td>\n",
              "      <td>0</td>\n",
              "      <td>2</td>\n",
              "      <td>RR Pant</td>\n",
              "      <td>ACA-VDCA Stadium</td>\n",
              "      <td>NaN</td>\n",
              "      <td>NaN</td>\n",
              "      <td>NaN</td>\n",
              "    </tr>\n",
              "    <tr>\n",
              "      <th>754</th>\n",
              "      <td>11414</td>\n",
              "      <td>2019</td>\n",
              "      <td>Visakhapatnam</td>\n",
              "      <td>10/05/19</td>\n",
              "      <td>Delhi Capitals</td>\n",
              "      <td>Chennai Super Kings</td>\n",
              "      <td>Chennai Super Kings</td>\n",
              "      <td>field</td>\n",
              "      <td>normal</td>\n",
              "      <td>0</td>\n",
              "      <td>Chennai Super Kings</td>\n",
              "      <td>0</td>\n",
              "      <td>6</td>\n",
              "      <td>F du Plessis</td>\n",
              "      <td>ACA-VDCA Stadium</td>\n",
              "      <td>Sundaram Ravi</td>\n",
              "      <td>Bruce Oxenford</td>\n",
              "      <td>Chettithody Shamshuddin</td>\n",
              "    </tr>\n",
              "    <tr>\n",
              "      <th>755</th>\n",
              "      <td>11415</td>\n",
              "      <td>2019</td>\n",
              "      <td>Hyderabad</td>\n",
              "      <td>12/05/19</td>\n",
              "      <td>Mumbai Indians</td>\n",
              "      <td>Chennai Super Kings</td>\n",
              "      <td>Mumbai Indians</td>\n",
              "      <td>bat</td>\n",
              "      <td>normal</td>\n",
              "      <td>0</td>\n",
              "      <td>Mumbai Indians</td>\n",
              "      <td>1</td>\n",
              "      <td>0</td>\n",
              "      <td>JJ Bumrah</td>\n",
              "      <td>Rajiv Gandhi Intl. Cricket Stadium</td>\n",
              "      <td>Nitin Menon</td>\n",
              "      <td>Ian Gould</td>\n",
              "      <td>Nigel Llong</td>\n",
              "    </tr>\n",
              "  </tbody>\n",
              "</table>\n",
              "</div>"
            ],
            "text/plain": [
              "        id  season           city      date                  team1  \\\n",
              "751  11347    2019         Mumbai  05/05/19  Kolkata Knight Riders   \n",
              "752  11412    2019        Chennai  07/05/19    Chennai Super Kings   \n",
              "753  11413    2019  Visakhapatnam  08/05/19    Sunrisers Hyderabad   \n",
              "754  11414    2019  Visakhapatnam  10/05/19         Delhi Capitals   \n",
              "755  11415    2019      Hyderabad  12/05/19         Mumbai Indians   \n",
              "\n",
              "                   team2          toss_winner toss_decision  result  \\\n",
              "751       Mumbai Indians       Mumbai Indians         field  normal   \n",
              "752       Mumbai Indians  Chennai Super Kings           bat  normal   \n",
              "753       Delhi Capitals       Delhi Capitals         field  normal   \n",
              "754  Chennai Super Kings  Chennai Super Kings         field  normal   \n",
              "755  Chennai Super Kings       Mumbai Indians           bat  normal   \n",
              "\n",
              "     dl_applied               winner  win_by_runs  win_by_wickets  \\\n",
              "751           0       Mumbai Indians            0               9   \n",
              "752           0       Mumbai Indians            0               6   \n",
              "753           0       Delhi Capitals            0               2   \n",
              "754           0  Chennai Super Kings            0               6   \n",
              "755           0       Mumbai Indians            1               0   \n",
              "\n",
              "    player_of_match                               venue        umpire1  \\\n",
              "751       HH Pandya                    Wankhede Stadium  Nanda Kishore   \n",
              "752        AS Yadav           M. A. Chidambaram Stadium    Nigel Llong   \n",
              "753         RR Pant                    ACA-VDCA Stadium            NaN   \n",
              "754    F du Plessis                    ACA-VDCA Stadium  Sundaram Ravi   \n",
              "755       JJ Bumrah  Rajiv Gandhi Intl. Cricket Stadium    Nitin Menon   \n",
              "\n",
              "            umpire2                  umpire3  \n",
              "751        O Nandan                   S Ravi  \n",
              "752     Nitin Menon                Ian Gould  \n",
              "753             NaN                      NaN  \n",
              "754  Bruce Oxenford  Chettithody Shamshuddin  \n",
              "755       Ian Gould              Nigel Llong  "
            ]
          },
          "execution_count": 47,
          "metadata": {},
          "output_type": "execute_result"
        }
      ],
      "source": [
        "matches.tail()"
      ]
    },
    {
      "cell_type": "markdown",
      "metadata": {
        "id": "razx-tppStK7"
      },
      "source": [
        "### Data information:"
      ]
    },
    {
      "cell_type": "code",
      "execution_count": 48,
      "metadata": {
        "colab": {
          "base_uri": "https://localhost:8080/"
        },
        "id": "vhLMfTfuStK7",
        "outputId": "9f2aa059-b955-425e-d916-e98882b58277"
      },
      "outputs": [
        {
          "name": "stdout",
          "output_type": "stream",
          "text": [
            "<class 'pandas.core.frame.DataFrame'>\n",
            "RangeIndex: 756 entries, 0 to 755\n",
            "Data columns (total 18 columns):\n",
            " #   Column           Non-Null Count  Dtype \n",
            "---  ------           --------------  ----- \n",
            " 0   id               756 non-null    int64 \n",
            " 1   season           756 non-null    int64 \n",
            " 2   city             749 non-null    object\n",
            " 3   date             756 non-null    object\n",
            " 4   team1            756 non-null    object\n",
            " 5   team2            756 non-null    object\n",
            " 6   toss_winner      756 non-null    object\n",
            " 7   toss_decision    756 non-null    object\n",
            " 8   result           756 non-null    object\n",
            " 9   dl_applied       756 non-null    int64 \n",
            " 10  winner           752 non-null    object\n",
            " 11  win_by_runs      756 non-null    int64 \n",
            " 12  win_by_wickets   756 non-null    int64 \n",
            " 13  player_of_match  752 non-null    object\n",
            " 14  venue            756 non-null    object\n",
            " 15  umpire1          754 non-null    object\n",
            " 16  umpire2          754 non-null    object\n",
            " 17  umpire3          119 non-null    object\n",
            "dtypes: int64(5), object(13)\n",
            "memory usage: 106.4+ KB\n"
          ]
        }
      ],
      "source": [
        "matches.info()"
      ]
    },
    {
      "cell_type": "code",
      "execution_count": 49,
      "metadata": {
        "id": "RlhdcG5kStK8",
        "outputId": "67f748bc-d7f0-4516-852a-6f4522add599"
      },
      "outputs": [
        {
          "data": {
            "text/plain": [
              "(756, 18)"
            ]
          },
          "execution_count": 49,
          "metadata": {},
          "output_type": "execute_result"
        }
      ],
      "source": [
        "matches.shape"
      ]
    },
    {
      "cell_type": "code",
      "execution_count": 50,
      "metadata": {
        "colab": {
          "base_uri": "https://localhost:8080/",
          "height": 300
        },
        "id": "WLu45RDSStK9",
        "outputId": "c45179b7-01f8-415b-82e9-b13d8ab9ab40"
      },
      "outputs": [
        {
          "data": {
            "text/html": [
              "<div>\n",
              "<style scoped>\n",
              "    .dataframe tbody tr th:only-of-type {\n",
              "        vertical-align: middle;\n",
              "    }\n",
              "\n",
              "    .dataframe tbody tr th {\n",
              "        vertical-align: top;\n",
              "    }\n",
              "\n",
              "    .dataframe thead th {\n",
              "        text-align: right;\n",
              "    }\n",
              "</style>\n",
              "<table border=\"1\" class=\"dataframe\">\n",
              "  <thead>\n",
              "    <tr style=\"text-align: right;\">\n",
              "      <th></th>\n",
              "      <th>id</th>\n",
              "      <th>season</th>\n",
              "      <th>dl_applied</th>\n",
              "      <th>win_by_runs</th>\n",
              "      <th>win_by_wickets</th>\n",
              "    </tr>\n",
              "  </thead>\n",
              "  <tbody>\n",
              "    <tr>\n",
              "      <th>count</th>\n",
              "      <td>756.000000</td>\n",
              "      <td>756.000000</td>\n",
              "      <td>756.000000</td>\n",
              "      <td>756.000000</td>\n",
              "      <td>756.000000</td>\n",
              "    </tr>\n",
              "    <tr>\n",
              "      <th>mean</th>\n",
              "      <td>1792.178571</td>\n",
              "      <td>2013.444444</td>\n",
              "      <td>0.025132</td>\n",
              "      <td>13.283069</td>\n",
              "      <td>3.350529</td>\n",
              "    </tr>\n",
              "    <tr>\n",
              "      <th>std</th>\n",
              "      <td>3464.478148</td>\n",
              "      <td>3.366895</td>\n",
              "      <td>0.156630</td>\n",
              "      <td>23.471144</td>\n",
              "      <td>3.387963</td>\n",
              "    </tr>\n",
              "    <tr>\n",
              "      <th>min</th>\n",
              "      <td>1.000000</td>\n",
              "      <td>2008.000000</td>\n",
              "      <td>0.000000</td>\n",
              "      <td>0.000000</td>\n",
              "      <td>0.000000</td>\n",
              "    </tr>\n",
              "    <tr>\n",
              "      <th>25%</th>\n",
              "      <td>189.750000</td>\n",
              "      <td>2011.000000</td>\n",
              "      <td>0.000000</td>\n",
              "      <td>0.000000</td>\n",
              "      <td>0.000000</td>\n",
              "    </tr>\n",
              "    <tr>\n",
              "      <th>50%</th>\n",
              "      <td>378.500000</td>\n",
              "      <td>2013.000000</td>\n",
              "      <td>0.000000</td>\n",
              "      <td>0.000000</td>\n",
              "      <td>4.000000</td>\n",
              "    </tr>\n",
              "    <tr>\n",
              "      <th>75%</th>\n",
              "      <td>567.250000</td>\n",
              "      <td>2016.000000</td>\n",
              "      <td>0.000000</td>\n",
              "      <td>19.000000</td>\n",
              "      <td>6.000000</td>\n",
              "    </tr>\n",
              "    <tr>\n",
              "      <th>max</th>\n",
              "      <td>11415.000000</td>\n",
              "      <td>2019.000000</td>\n",
              "      <td>1.000000</td>\n",
              "      <td>146.000000</td>\n",
              "      <td>10.000000</td>\n",
              "    </tr>\n",
              "  </tbody>\n",
              "</table>\n",
              "</div>"
            ],
            "text/plain": [
              "                 id       season  dl_applied  win_by_runs  win_by_wickets\n",
              "count    756.000000   756.000000  756.000000   756.000000      756.000000\n",
              "mean    1792.178571  2013.444444    0.025132    13.283069        3.350529\n",
              "std     3464.478148     3.366895    0.156630    23.471144        3.387963\n",
              "min        1.000000  2008.000000    0.000000     0.000000        0.000000\n",
              "25%      189.750000  2011.000000    0.000000     0.000000        0.000000\n",
              "50%      378.500000  2013.000000    0.000000     0.000000        4.000000\n",
              "75%      567.250000  2016.000000    0.000000    19.000000        6.000000\n",
              "max    11415.000000  2019.000000    1.000000   146.000000       10.000000"
            ]
          },
          "execution_count": 50,
          "metadata": {},
          "output_type": "execute_result"
        }
      ],
      "source": [
        "matches.describe()"
      ]
    },
    {
      "cell_type": "markdown",
      "metadata": {
        "id": "5haY3wYjStK-"
      },
      "source": [
        "### Loading 2nd Dataset "
      ]
    },
    {
      "cell_type": "code",
      "execution_count": 51,
      "metadata": {
        "id": "iv-Xp0QdStK-"
      },
      "outputs": [],
      "source": [
        "deliveries = pd.read_csv(\"Dataset\\\\deliveries.csv\")"
      ]
    },
    {
      "cell_type": "code",
      "execution_count": 52,
      "metadata": {
        "colab": {
          "base_uri": "https://localhost:8080/",
          "height": 605
        },
        "id": "Jps_7CBVStK_",
        "outputId": "ce2521ef-03f7-4498-a462-b67ef8bf9170"
      },
      "outputs": [
        {
          "data": {
            "text/html": [
              "<div>\n",
              "<style scoped>\n",
              "    .dataframe tbody tr th:only-of-type {\n",
              "        vertical-align: middle;\n",
              "    }\n",
              "\n",
              "    .dataframe tbody tr th {\n",
              "        vertical-align: top;\n",
              "    }\n",
              "\n",
              "    .dataframe thead th {\n",
              "        text-align: right;\n",
              "    }\n",
              "</style>\n",
              "<table border=\"1\" class=\"dataframe\">\n",
              "  <thead>\n",
              "    <tr style=\"text-align: right;\">\n",
              "      <th></th>\n",
              "      <th>match_id</th>\n",
              "      <th>inning</th>\n",
              "      <th>batting_team</th>\n",
              "      <th>bowling_team</th>\n",
              "      <th>over</th>\n",
              "      <th>ball</th>\n",
              "      <th>batsman</th>\n",
              "      <th>non_striker</th>\n",
              "      <th>bowler</th>\n",
              "      <th>is_super_over</th>\n",
              "      <th>...</th>\n",
              "      <th>bye_runs</th>\n",
              "      <th>legbye_runs</th>\n",
              "      <th>noball_runs</th>\n",
              "      <th>penalty_runs</th>\n",
              "      <th>batsman_runs</th>\n",
              "      <th>extra_runs</th>\n",
              "      <th>total_runs</th>\n",
              "      <th>player_dismissed</th>\n",
              "      <th>dismissal_kind</th>\n",
              "      <th>fielder</th>\n",
              "    </tr>\n",
              "  </thead>\n",
              "  <tbody>\n",
              "    <tr>\n",
              "      <th>0</th>\n",
              "      <td>1</td>\n",
              "      <td>1</td>\n",
              "      <td>Sunrisers Hyderabad</td>\n",
              "      <td>Royal Challengers Bangalore</td>\n",
              "      <td>1</td>\n",
              "      <td>1</td>\n",
              "      <td>DA Warner</td>\n",
              "      <td>S Dhawan</td>\n",
              "      <td>TS Mills</td>\n",
              "      <td>0</td>\n",
              "      <td>...</td>\n",
              "      <td>0</td>\n",
              "      <td>0</td>\n",
              "      <td>0</td>\n",
              "      <td>0</td>\n",
              "      <td>0</td>\n",
              "      <td>0</td>\n",
              "      <td>0</td>\n",
              "      <td>NaN</td>\n",
              "      <td>NaN</td>\n",
              "      <td>NaN</td>\n",
              "    </tr>\n",
              "    <tr>\n",
              "      <th>1</th>\n",
              "      <td>1</td>\n",
              "      <td>1</td>\n",
              "      <td>Sunrisers Hyderabad</td>\n",
              "      <td>Royal Challengers Bangalore</td>\n",
              "      <td>1</td>\n",
              "      <td>2</td>\n",
              "      <td>DA Warner</td>\n",
              "      <td>S Dhawan</td>\n",
              "      <td>TS Mills</td>\n",
              "      <td>0</td>\n",
              "      <td>...</td>\n",
              "      <td>0</td>\n",
              "      <td>0</td>\n",
              "      <td>0</td>\n",
              "      <td>0</td>\n",
              "      <td>0</td>\n",
              "      <td>0</td>\n",
              "      <td>0</td>\n",
              "      <td>NaN</td>\n",
              "      <td>NaN</td>\n",
              "      <td>NaN</td>\n",
              "    </tr>\n",
              "    <tr>\n",
              "      <th>2</th>\n",
              "      <td>1</td>\n",
              "      <td>1</td>\n",
              "      <td>Sunrisers Hyderabad</td>\n",
              "      <td>Royal Challengers Bangalore</td>\n",
              "      <td>1</td>\n",
              "      <td>3</td>\n",
              "      <td>DA Warner</td>\n",
              "      <td>S Dhawan</td>\n",
              "      <td>TS Mills</td>\n",
              "      <td>0</td>\n",
              "      <td>...</td>\n",
              "      <td>0</td>\n",
              "      <td>0</td>\n",
              "      <td>0</td>\n",
              "      <td>0</td>\n",
              "      <td>4</td>\n",
              "      <td>0</td>\n",
              "      <td>4</td>\n",
              "      <td>NaN</td>\n",
              "      <td>NaN</td>\n",
              "      <td>NaN</td>\n",
              "    </tr>\n",
              "    <tr>\n",
              "      <th>3</th>\n",
              "      <td>1</td>\n",
              "      <td>1</td>\n",
              "      <td>Sunrisers Hyderabad</td>\n",
              "      <td>Royal Challengers Bangalore</td>\n",
              "      <td>1</td>\n",
              "      <td>4</td>\n",
              "      <td>DA Warner</td>\n",
              "      <td>S Dhawan</td>\n",
              "      <td>TS Mills</td>\n",
              "      <td>0</td>\n",
              "      <td>...</td>\n",
              "      <td>0</td>\n",
              "      <td>0</td>\n",
              "      <td>0</td>\n",
              "      <td>0</td>\n",
              "      <td>0</td>\n",
              "      <td>0</td>\n",
              "      <td>0</td>\n",
              "      <td>NaN</td>\n",
              "      <td>NaN</td>\n",
              "      <td>NaN</td>\n",
              "    </tr>\n",
              "    <tr>\n",
              "      <th>4</th>\n",
              "      <td>1</td>\n",
              "      <td>1</td>\n",
              "      <td>Sunrisers Hyderabad</td>\n",
              "      <td>Royal Challengers Bangalore</td>\n",
              "      <td>1</td>\n",
              "      <td>5</td>\n",
              "      <td>DA Warner</td>\n",
              "      <td>S Dhawan</td>\n",
              "      <td>TS Mills</td>\n",
              "      <td>0</td>\n",
              "      <td>...</td>\n",
              "      <td>0</td>\n",
              "      <td>0</td>\n",
              "      <td>0</td>\n",
              "      <td>0</td>\n",
              "      <td>0</td>\n",
              "      <td>2</td>\n",
              "      <td>2</td>\n",
              "      <td>NaN</td>\n",
              "      <td>NaN</td>\n",
              "      <td>NaN</td>\n",
              "    </tr>\n",
              "    <tr>\n",
              "      <th>5</th>\n",
              "      <td>1</td>\n",
              "      <td>1</td>\n",
              "      <td>Sunrisers Hyderabad</td>\n",
              "      <td>Royal Challengers Bangalore</td>\n",
              "      <td>1</td>\n",
              "      <td>6</td>\n",
              "      <td>S Dhawan</td>\n",
              "      <td>DA Warner</td>\n",
              "      <td>TS Mills</td>\n",
              "      <td>0</td>\n",
              "      <td>...</td>\n",
              "      <td>0</td>\n",
              "      <td>0</td>\n",
              "      <td>0</td>\n",
              "      <td>0</td>\n",
              "      <td>0</td>\n",
              "      <td>0</td>\n",
              "      <td>0</td>\n",
              "      <td>NaN</td>\n",
              "      <td>NaN</td>\n",
              "      <td>NaN</td>\n",
              "    </tr>\n",
              "    <tr>\n",
              "      <th>6</th>\n",
              "      <td>1</td>\n",
              "      <td>1</td>\n",
              "      <td>Sunrisers Hyderabad</td>\n",
              "      <td>Royal Challengers Bangalore</td>\n",
              "      <td>1</td>\n",
              "      <td>7</td>\n",
              "      <td>S Dhawan</td>\n",
              "      <td>DA Warner</td>\n",
              "      <td>TS Mills</td>\n",
              "      <td>0</td>\n",
              "      <td>...</td>\n",
              "      <td>0</td>\n",
              "      <td>1</td>\n",
              "      <td>0</td>\n",
              "      <td>0</td>\n",
              "      <td>0</td>\n",
              "      <td>1</td>\n",
              "      <td>1</td>\n",
              "      <td>NaN</td>\n",
              "      <td>NaN</td>\n",
              "      <td>NaN</td>\n",
              "    </tr>\n",
              "  </tbody>\n",
              "</table>\n",
              "<p>7 rows × 21 columns</p>\n",
              "</div>"
            ],
            "text/plain": [
              "   match_id  inning         batting_team                 bowling_team  over  \\\n",
              "0         1       1  Sunrisers Hyderabad  Royal Challengers Bangalore     1   \n",
              "1         1       1  Sunrisers Hyderabad  Royal Challengers Bangalore     1   \n",
              "2         1       1  Sunrisers Hyderabad  Royal Challengers Bangalore     1   \n",
              "3         1       1  Sunrisers Hyderabad  Royal Challengers Bangalore     1   \n",
              "4         1       1  Sunrisers Hyderabad  Royal Challengers Bangalore     1   \n",
              "5         1       1  Sunrisers Hyderabad  Royal Challengers Bangalore     1   \n",
              "6         1       1  Sunrisers Hyderabad  Royal Challengers Bangalore     1   \n",
              "\n",
              "   ball    batsman non_striker    bowler  is_super_over  ...  bye_runs  \\\n",
              "0     1  DA Warner    S Dhawan  TS Mills              0  ...         0   \n",
              "1     2  DA Warner    S Dhawan  TS Mills              0  ...         0   \n",
              "2     3  DA Warner    S Dhawan  TS Mills              0  ...         0   \n",
              "3     4  DA Warner    S Dhawan  TS Mills              0  ...         0   \n",
              "4     5  DA Warner    S Dhawan  TS Mills              0  ...         0   \n",
              "5     6   S Dhawan   DA Warner  TS Mills              0  ...         0   \n",
              "6     7   S Dhawan   DA Warner  TS Mills              0  ...         0   \n",
              "\n",
              "   legbye_runs  noball_runs  penalty_runs  batsman_runs  extra_runs  \\\n",
              "0            0            0             0             0           0   \n",
              "1            0            0             0             0           0   \n",
              "2            0            0             0             4           0   \n",
              "3            0            0             0             0           0   \n",
              "4            0            0             0             0           2   \n",
              "5            0            0             0             0           0   \n",
              "6            1            0             0             0           1   \n",
              "\n",
              "   total_runs  player_dismissed dismissal_kind fielder  \n",
              "0           0               NaN            NaN     NaN  \n",
              "1           0               NaN            NaN     NaN  \n",
              "2           4               NaN            NaN     NaN  \n",
              "3           0               NaN            NaN     NaN  \n",
              "4           2               NaN            NaN     NaN  \n",
              "5           0               NaN            NaN     NaN  \n",
              "6           1               NaN            NaN     NaN  \n",
              "\n",
              "[7 rows x 21 columns]"
            ]
          },
          "execution_count": 52,
          "metadata": {},
          "output_type": "execute_result"
        }
      ],
      "source": [
        "deliveries.head(n=7)"
      ]
    },
    {
      "cell_type": "code",
      "execution_count": 53,
      "metadata": {
        "colab": {
          "base_uri": "https://localhost:8080/",
          "height": 386
        },
        "id": "s8dIDssAStK_",
        "outputId": "91722e61-88d2-4d82-d7b9-8eb893738a89"
      },
      "outputs": [
        {
          "data": {
            "text/html": [
              "<div>\n",
              "<style scoped>\n",
              "    .dataframe tbody tr th:only-of-type {\n",
              "        vertical-align: middle;\n",
              "    }\n",
              "\n",
              "    .dataframe tbody tr th {\n",
              "        vertical-align: top;\n",
              "    }\n",
              "\n",
              "    .dataframe thead th {\n",
              "        text-align: right;\n",
              "    }\n",
              "</style>\n",
              "<table border=\"1\" class=\"dataframe\">\n",
              "  <thead>\n",
              "    <tr style=\"text-align: right;\">\n",
              "      <th></th>\n",
              "      <th>match_id</th>\n",
              "      <th>inning</th>\n",
              "      <th>batting_team</th>\n",
              "      <th>bowling_team</th>\n",
              "      <th>over</th>\n",
              "      <th>ball</th>\n",
              "      <th>batsman</th>\n",
              "      <th>non_striker</th>\n",
              "      <th>bowler</th>\n",
              "      <th>is_super_over</th>\n",
              "      <th>...</th>\n",
              "      <th>bye_runs</th>\n",
              "      <th>legbye_runs</th>\n",
              "      <th>noball_runs</th>\n",
              "      <th>penalty_runs</th>\n",
              "      <th>batsman_runs</th>\n",
              "      <th>extra_runs</th>\n",
              "      <th>total_runs</th>\n",
              "      <th>player_dismissed</th>\n",
              "      <th>dismissal_kind</th>\n",
              "      <th>fielder</th>\n",
              "    </tr>\n",
              "  </thead>\n",
              "  <tbody>\n",
              "    <tr>\n",
              "      <th>179073</th>\n",
              "      <td>11415</td>\n",
              "      <td>2</td>\n",
              "      <td>Chennai Super Kings</td>\n",
              "      <td>Mumbai Indians</td>\n",
              "      <td>20</td>\n",
              "      <td>2</td>\n",
              "      <td>RA Jadeja</td>\n",
              "      <td>SR Watson</td>\n",
              "      <td>SL Malinga</td>\n",
              "      <td>0</td>\n",
              "      <td>...</td>\n",
              "      <td>0</td>\n",
              "      <td>0</td>\n",
              "      <td>0</td>\n",
              "      <td>0</td>\n",
              "      <td>1</td>\n",
              "      <td>0</td>\n",
              "      <td>1</td>\n",
              "      <td>NaN</td>\n",
              "      <td>NaN</td>\n",
              "      <td>NaN</td>\n",
              "    </tr>\n",
              "    <tr>\n",
              "      <th>179074</th>\n",
              "      <td>11415</td>\n",
              "      <td>2</td>\n",
              "      <td>Chennai Super Kings</td>\n",
              "      <td>Mumbai Indians</td>\n",
              "      <td>20</td>\n",
              "      <td>3</td>\n",
              "      <td>SR Watson</td>\n",
              "      <td>RA Jadeja</td>\n",
              "      <td>SL Malinga</td>\n",
              "      <td>0</td>\n",
              "      <td>...</td>\n",
              "      <td>0</td>\n",
              "      <td>0</td>\n",
              "      <td>0</td>\n",
              "      <td>0</td>\n",
              "      <td>2</td>\n",
              "      <td>0</td>\n",
              "      <td>2</td>\n",
              "      <td>NaN</td>\n",
              "      <td>NaN</td>\n",
              "      <td>NaN</td>\n",
              "    </tr>\n",
              "    <tr>\n",
              "      <th>179075</th>\n",
              "      <td>11415</td>\n",
              "      <td>2</td>\n",
              "      <td>Chennai Super Kings</td>\n",
              "      <td>Mumbai Indians</td>\n",
              "      <td>20</td>\n",
              "      <td>4</td>\n",
              "      <td>SR Watson</td>\n",
              "      <td>RA Jadeja</td>\n",
              "      <td>SL Malinga</td>\n",
              "      <td>0</td>\n",
              "      <td>...</td>\n",
              "      <td>0</td>\n",
              "      <td>0</td>\n",
              "      <td>0</td>\n",
              "      <td>0</td>\n",
              "      <td>1</td>\n",
              "      <td>0</td>\n",
              "      <td>1</td>\n",
              "      <td>SR Watson</td>\n",
              "      <td>run out</td>\n",
              "      <td>KH Pandya</td>\n",
              "    </tr>\n",
              "    <tr>\n",
              "      <th>179076</th>\n",
              "      <td>11415</td>\n",
              "      <td>2</td>\n",
              "      <td>Chennai Super Kings</td>\n",
              "      <td>Mumbai Indians</td>\n",
              "      <td>20</td>\n",
              "      <td>5</td>\n",
              "      <td>SN Thakur</td>\n",
              "      <td>RA Jadeja</td>\n",
              "      <td>SL Malinga</td>\n",
              "      <td>0</td>\n",
              "      <td>...</td>\n",
              "      <td>0</td>\n",
              "      <td>0</td>\n",
              "      <td>0</td>\n",
              "      <td>0</td>\n",
              "      <td>2</td>\n",
              "      <td>0</td>\n",
              "      <td>2</td>\n",
              "      <td>NaN</td>\n",
              "      <td>NaN</td>\n",
              "      <td>NaN</td>\n",
              "    </tr>\n",
              "    <tr>\n",
              "      <th>179077</th>\n",
              "      <td>11415</td>\n",
              "      <td>2</td>\n",
              "      <td>Chennai Super Kings</td>\n",
              "      <td>Mumbai Indians</td>\n",
              "      <td>20</td>\n",
              "      <td>6</td>\n",
              "      <td>SN Thakur</td>\n",
              "      <td>RA Jadeja</td>\n",
              "      <td>SL Malinga</td>\n",
              "      <td>0</td>\n",
              "      <td>...</td>\n",
              "      <td>0</td>\n",
              "      <td>0</td>\n",
              "      <td>0</td>\n",
              "      <td>0</td>\n",
              "      <td>0</td>\n",
              "      <td>0</td>\n",
              "      <td>0</td>\n",
              "      <td>SN Thakur</td>\n",
              "      <td>lbw</td>\n",
              "      <td>NaN</td>\n",
              "    </tr>\n",
              "  </tbody>\n",
              "</table>\n",
              "<p>5 rows × 21 columns</p>\n",
              "</div>"
            ],
            "text/plain": [
              "        match_id  inning         batting_team    bowling_team  over  ball  \\\n",
              "179073     11415       2  Chennai Super Kings  Mumbai Indians    20     2   \n",
              "179074     11415       2  Chennai Super Kings  Mumbai Indians    20     3   \n",
              "179075     11415       2  Chennai Super Kings  Mumbai Indians    20     4   \n",
              "179076     11415       2  Chennai Super Kings  Mumbai Indians    20     5   \n",
              "179077     11415       2  Chennai Super Kings  Mumbai Indians    20     6   \n",
              "\n",
              "          batsman non_striker      bowler  is_super_over  ...  bye_runs  \\\n",
              "179073  RA Jadeja   SR Watson  SL Malinga              0  ...         0   \n",
              "179074  SR Watson   RA Jadeja  SL Malinga              0  ...         0   \n",
              "179075  SR Watson   RA Jadeja  SL Malinga              0  ...         0   \n",
              "179076  SN Thakur   RA Jadeja  SL Malinga              0  ...         0   \n",
              "179077  SN Thakur   RA Jadeja  SL Malinga              0  ...         0   \n",
              "\n",
              "        legbye_runs  noball_runs  penalty_runs  batsman_runs  extra_runs  \\\n",
              "179073            0            0             0             1           0   \n",
              "179074            0            0             0             2           0   \n",
              "179075            0            0             0             1           0   \n",
              "179076            0            0             0             2           0   \n",
              "179077            0            0             0             0           0   \n",
              "\n",
              "        total_runs  player_dismissed dismissal_kind    fielder  \n",
              "179073           1               NaN            NaN        NaN  \n",
              "179074           2               NaN            NaN        NaN  \n",
              "179075           1         SR Watson        run out  KH Pandya  \n",
              "179076           2               NaN            NaN        NaN  \n",
              "179077           0         SN Thakur            lbw        NaN  \n",
              "\n",
              "[5 rows x 21 columns]"
            ]
          },
          "execution_count": 53,
          "metadata": {},
          "output_type": "execute_result"
        }
      ],
      "source": [
        "deliveries.tail()"
      ]
    },
    {
      "cell_type": "markdown",
      "metadata": {
        "id": "vWPJcvZMStLA"
      },
      "source": [
        "### Data information:"
      ]
    },
    {
      "cell_type": "code",
      "execution_count": 54,
      "metadata": {
        "colab": {
          "base_uri": "https://localhost:8080/"
        },
        "id": "KSZbQYpiStLA",
        "outputId": "581a001d-90fb-42c8-8435-2a393365160a"
      },
      "outputs": [
        {
          "name": "stdout",
          "output_type": "stream",
          "text": [
            "<class 'pandas.core.frame.DataFrame'>\n",
            "RangeIndex: 179078 entries, 0 to 179077\n",
            "Data columns (total 21 columns):\n",
            " #   Column            Non-Null Count   Dtype \n",
            "---  ------            --------------   ----- \n",
            " 0   match_id          179078 non-null  int64 \n",
            " 1   inning            179078 non-null  int64 \n",
            " 2   batting_team      179078 non-null  object\n",
            " 3   bowling_team      179078 non-null  object\n",
            " 4   over              179078 non-null  int64 \n",
            " 5   ball              179078 non-null  int64 \n",
            " 6   batsman           179078 non-null  object\n",
            " 7   non_striker       179078 non-null  object\n",
            " 8   bowler            179078 non-null  object\n",
            " 9   is_super_over     179078 non-null  int64 \n",
            " 10  wide_runs         179078 non-null  int64 \n",
            " 11  bye_runs          179078 non-null  int64 \n",
            " 12  legbye_runs       179078 non-null  int64 \n",
            " 13  noball_runs       179078 non-null  int64 \n",
            " 14  penalty_runs      179078 non-null  int64 \n",
            " 15  batsman_runs      179078 non-null  int64 \n",
            " 16  extra_runs        179078 non-null  int64 \n",
            " 17  total_runs        179078 non-null  int64 \n",
            " 18  player_dismissed  8834 non-null    object\n",
            " 19  dismissal_kind    8834 non-null    object\n",
            " 20  fielder           6448 non-null    object\n",
            "dtypes: int64(13), object(8)\n",
            "memory usage: 28.7+ MB\n"
          ]
        }
      ],
      "source": [
        "deliveries.info()"
      ]
    },
    {
      "cell_type": "code",
      "execution_count": 55,
      "metadata": {
        "colab": {
          "base_uri": "https://localhost:8080/"
        },
        "id": "YE53-i-VStLA",
        "outputId": "b012672e-6223-4cb6-820c-472eed59c81e"
      },
      "outputs": [
        {
          "data": {
            "text/plain": [
              "(179078, 21)"
            ]
          },
          "execution_count": 55,
          "metadata": {},
          "output_type": "execute_result"
        }
      ],
      "source": [
        "deliveries.shape"
      ]
    },
    {
      "cell_type": "code",
      "execution_count": 56,
      "metadata": {
        "colab": {
          "base_uri": "https://localhost:8080/",
          "height": 364
        },
        "id": "sElzfigFStLB",
        "outputId": "eec8ec61-69e0-43a0-e46e-c8176b2ce5b5"
      },
      "outputs": [
        {
          "data": {
            "text/html": [
              "<div>\n",
              "<style scoped>\n",
              "    .dataframe tbody tr th:only-of-type {\n",
              "        vertical-align: middle;\n",
              "    }\n",
              "\n",
              "    .dataframe tbody tr th {\n",
              "        vertical-align: top;\n",
              "    }\n",
              "\n",
              "    .dataframe thead th {\n",
              "        text-align: right;\n",
              "    }\n",
              "</style>\n",
              "<table border=\"1\" class=\"dataframe\">\n",
              "  <thead>\n",
              "    <tr style=\"text-align: right;\">\n",
              "      <th></th>\n",
              "      <th>match_id</th>\n",
              "      <th>inning</th>\n",
              "      <th>over</th>\n",
              "      <th>ball</th>\n",
              "      <th>is_super_over</th>\n",
              "      <th>wide_runs</th>\n",
              "      <th>bye_runs</th>\n",
              "      <th>legbye_runs</th>\n",
              "      <th>noball_runs</th>\n",
              "      <th>penalty_runs</th>\n",
              "      <th>batsman_runs</th>\n",
              "      <th>extra_runs</th>\n",
              "      <th>total_runs</th>\n",
              "    </tr>\n",
              "  </thead>\n",
              "  <tbody>\n",
              "    <tr>\n",
              "      <th>count</th>\n",
              "      <td>179078.000000</td>\n",
              "      <td>179078.000000</td>\n",
              "      <td>179078.000000</td>\n",
              "      <td>179078.000000</td>\n",
              "      <td>179078.000000</td>\n",
              "      <td>179078.000000</td>\n",
              "      <td>179078.000000</td>\n",
              "      <td>179078.000000</td>\n",
              "      <td>179078.000000</td>\n",
              "      <td>179078.000000</td>\n",
              "      <td>179078.000000</td>\n",
              "      <td>179078.000000</td>\n",
              "      <td>179078.000000</td>\n",
              "    </tr>\n",
              "    <tr>\n",
              "      <th>mean</th>\n",
              "      <td>1802.252957</td>\n",
              "      <td>1.482952</td>\n",
              "      <td>10.162488</td>\n",
              "      <td>3.615587</td>\n",
              "      <td>0.000452</td>\n",
              "      <td>0.036721</td>\n",
              "      <td>0.004936</td>\n",
              "      <td>0.021136</td>\n",
              "      <td>0.004183</td>\n",
              "      <td>0.000056</td>\n",
              "      <td>1.246864</td>\n",
              "      <td>0.067032</td>\n",
              "      <td>1.313897</td>\n",
              "    </tr>\n",
              "    <tr>\n",
              "      <th>std</th>\n",
              "      <td>3472.322805</td>\n",
              "      <td>0.502074</td>\n",
              "      <td>5.677684</td>\n",
              "      <td>1.806966</td>\n",
              "      <td>0.021263</td>\n",
              "      <td>0.251161</td>\n",
              "      <td>0.116480</td>\n",
              "      <td>0.194908</td>\n",
              "      <td>0.070492</td>\n",
              "      <td>0.016709</td>\n",
              "      <td>1.608270</td>\n",
              "      <td>0.342553</td>\n",
              "      <td>1.605422</td>\n",
              "    </tr>\n",
              "    <tr>\n",
              "      <th>min</th>\n",
              "      <td>1.000000</td>\n",
              "      <td>1.000000</td>\n",
              "      <td>1.000000</td>\n",
              "      <td>1.000000</td>\n",
              "      <td>0.000000</td>\n",
              "      <td>0.000000</td>\n",
              "      <td>0.000000</td>\n",
              "      <td>0.000000</td>\n",
              "      <td>0.000000</td>\n",
              "      <td>0.000000</td>\n",
              "      <td>0.000000</td>\n",
              "      <td>0.000000</td>\n",
              "      <td>0.000000</td>\n",
              "    </tr>\n",
              "    <tr>\n",
              "      <th>25%</th>\n",
              "      <td>190.000000</td>\n",
              "      <td>1.000000</td>\n",
              "      <td>5.000000</td>\n",
              "      <td>2.000000</td>\n",
              "      <td>0.000000</td>\n",
              "      <td>0.000000</td>\n",
              "      <td>0.000000</td>\n",
              "      <td>0.000000</td>\n",
              "      <td>0.000000</td>\n",
              "      <td>0.000000</td>\n",
              "      <td>0.000000</td>\n",
              "      <td>0.000000</td>\n",
              "      <td>0.000000</td>\n",
              "    </tr>\n",
              "    <tr>\n",
              "      <th>50%</th>\n",
              "      <td>379.000000</td>\n",
              "      <td>1.000000</td>\n",
              "      <td>10.000000</td>\n",
              "      <td>4.000000</td>\n",
              "      <td>0.000000</td>\n",
              "      <td>0.000000</td>\n",
              "      <td>0.000000</td>\n",
              "      <td>0.000000</td>\n",
              "      <td>0.000000</td>\n",
              "      <td>0.000000</td>\n",
              "      <td>1.000000</td>\n",
              "      <td>0.000000</td>\n",
              "      <td>1.000000</td>\n",
              "    </tr>\n",
              "    <tr>\n",
              "      <th>75%</th>\n",
              "      <td>567.000000</td>\n",
              "      <td>2.000000</td>\n",
              "      <td>15.000000</td>\n",
              "      <td>5.000000</td>\n",
              "      <td>0.000000</td>\n",
              "      <td>0.000000</td>\n",
              "      <td>0.000000</td>\n",
              "      <td>0.000000</td>\n",
              "      <td>0.000000</td>\n",
              "      <td>0.000000</td>\n",
              "      <td>1.000000</td>\n",
              "      <td>0.000000</td>\n",
              "      <td>1.000000</td>\n",
              "    </tr>\n",
              "    <tr>\n",
              "      <th>max</th>\n",
              "      <td>11415.000000</td>\n",
              "      <td>5.000000</td>\n",
              "      <td>20.000000</td>\n",
              "      <td>9.000000</td>\n",
              "      <td>1.000000</td>\n",
              "      <td>5.000000</td>\n",
              "      <td>4.000000</td>\n",
              "      <td>5.000000</td>\n",
              "      <td>5.000000</td>\n",
              "      <td>5.000000</td>\n",
              "      <td>7.000000</td>\n",
              "      <td>7.000000</td>\n",
              "      <td>10.000000</td>\n",
              "    </tr>\n",
              "  </tbody>\n",
              "</table>\n",
              "</div>"
            ],
            "text/plain": [
              "            match_id         inning           over           ball  \\\n",
              "count  179078.000000  179078.000000  179078.000000  179078.000000   \n",
              "mean     1802.252957       1.482952      10.162488       3.615587   \n",
              "std      3472.322805       0.502074       5.677684       1.806966   \n",
              "min         1.000000       1.000000       1.000000       1.000000   \n",
              "25%       190.000000       1.000000       5.000000       2.000000   \n",
              "50%       379.000000       1.000000      10.000000       4.000000   \n",
              "75%       567.000000       2.000000      15.000000       5.000000   \n",
              "max     11415.000000       5.000000      20.000000       9.000000   \n",
              "\n",
              "       is_super_over      wide_runs       bye_runs    legbye_runs  \\\n",
              "count  179078.000000  179078.000000  179078.000000  179078.000000   \n",
              "mean        0.000452       0.036721       0.004936       0.021136   \n",
              "std         0.021263       0.251161       0.116480       0.194908   \n",
              "min         0.000000       0.000000       0.000000       0.000000   \n",
              "25%         0.000000       0.000000       0.000000       0.000000   \n",
              "50%         0.000000       0.000000       0.000000       0.000000   \n",
              "75%         0.000000       0.000000       0.000000       0.000000   \n",
              "max         1.000000       5.000000       4.000000       5.000000   \n",
              "\n",
              "         noball_runs   penalty_runs   batsman_runs     extra_runs  \\\n",
              "count  179078.000000  179078.000000  179078.000000  179078.000000   \n",
              "mean        0.004183       0.000056       1.246864       0.067032   \n",
              "std         0.070492       0.016709       1.608270       0.342553   \n",
              "min         0.000000       0.000000       0.000000       0.000000   \n",
              "25%         0.000000       0.000000       0.000000       0.000000   \n",
              "50%         0.000000       0.000000       1.000000       0.000000   \n",
              "75%         0.000000       0.000000       1.000000       0.000000   \n",
              "max         5.000000       5.000000       7.000000       7.000000   \n",
              "\n",
              "          total_runs  \n",
              "count  179078.000000  \n",
              "mean        1.313897  \n",
              "std         1.605422  \n",
              "min         0.000000  \n",
              "25%         0.000000  \n",
              "50%         1.000000  \n",
              "75%         1.000000  \n",
              "max        10.000000  "
            ]
          },
          "execution_count": 56,
          "metadata": {},
          "output_type": "execute_result"
        }
      ],
      "source": [
        "deliveries.describe()"
      ]
    },
    {
      "cell_type": "markdown",
      "metadata": {
        "id": "jqCVNicqStLB"
      },
      "source": [
        "### Now, We will merge the 2 datasets for better insights from the data"
      ]
    },
    {
      "cell_type": "code",
      "execution_count": 57,
      "metadata": {
        "colab": {
          "base_uri": "https://localhost:8080/",
          "height": 344
        },
        "id": "O2tA8cC6StLC",
        "outputId": "448917aa-6802-4145-82a1-e2c685ac5590"
      },
      "outputs": [
        {
          "data": {
            "text/html": [
              "<div>\n",
              "<style scoped>\n",
              "    .dataframe tbody tr th:only-of-type {\n",
              "        vertical-align: middle;\n",
              "    }\n",
              "\n",
              "    .dataframe tbody tr th {\n",
              "        vertical-align: top;\n",
              "    }\n",
              "\n",
              "    .dataframe thead th {\n",
              "        text-align: right;\n",
              "    }\n",
              "</style>\n",
              "<table border=\"1\" class=\"dataframe\">\n",
              "  <thead>\n",
              "    <tr style=\"text-align: right;\">\n",
              "      <th></th>\n",
              "      <th>match_id</th>\n",
              "      <th>inning</th>\n",
              "      <th>batting_team</th>\n",
              "      <th>bowling_team</th>\n",
              "      <th>over</th>\n",
              "      <th>ball</th>\n",
              "      <th>batsman</th>\n",
              "      <th>non_striker</th>\n",
              "      <th>bowler</th>\n",
              "      <th>is_super_over</th>\n",
              "      <th>...</th>\n",
              "      <th>result</th>\n",
              "      <th>dl_applied</th>\n",
              "      <th>winner</th>\n",
              "      <th>win_by_runs</th>\n",
              "      <th>win_by_wickets</th>\n",
              "      <th>player_of_match</th>\n",
              "      <th>venue</th>\n",
              "      <th>umpire1</th>\n",
              "      <th>umpire2</th>\n",
              "      <th>umpire3</th>\n",
              "    </tr>\n",
              "  </thead>\n",
              "  <tbody>\n",
              "    <tr>\n",
              "      <th>0</th>\n",
              "      <td>1</td>\n",
              "      <td>1</td>\n",
              "      <td>Sunrisers Hyderabad</td>\n",
              "      <td>Royal Challengers Bangalore</td>\n",
              "      <td>1</td>\n",
              "      <td>1</td>\n",
              "      <td>DA Warner</td>\n",
              "      <td>S Dhawan</td>\n",
              "      <td>TS Mills</td>\n",
              "      <td>0</td>\n",
              "      <td>...</td>\n",
              "      <td>normal</td>\n",
              "      <td>0</td>\n",
              "      <td>Sunrisers Hyderabad</td>\n",
              "      <td>35</td>\n",
              "      <td>0</td>\n",
              "      <td>Yuvraj Singh</td>\n",
              "      <td>Rajiv Gandhi International Stadium, Uppal</td>\n",
              "      <td>AY Dandekar</td>\n",
              "      <td>NJ Llong</td>\n",
              "      <td>NaN</td>\n",
              "    </tr>\n",
              "    <tr>\n",
              "      <th>1</th>\n",
              "      <td>1</td>\n",
              "      <td>1</td>\n",
              "      <td>Sunrisers Hyderabad</td>\n",
              "      <td>Royal Challengers Bangalore</td>\n",
              "      <td>1</td>\n",
              "      <td>2</td>\n",
              "      <td>DA Warner</td>\n",
              "      <td>S Dhawan</td>\n",
              "      <td>TS Mills</td>\n",
              "      <td>0</td>\n",
              "      <td>...</td>\n",
              "      <td>normal</td>\n",
              "      <td>0</td>\n",
              "      <td>Sunrisers Hyderabad</td>\n",
              "      <td>35</td>\n",
              "      <td>0</td>\n",
              "      <td>Yuvraj Singh</td>\n",
              "      <td>Rajiv Gandhi International Stadium, Uppal</td>\n",
              "      <td>AY Dandekar</td>\n",
              "      <td>NJ Llong</td>\n",
              "      <td>NaN</td>\n",
              "    </tr>\n",
              "  </tbody>\n",
              "</table>\n",
              "<p>2 rows × 39 columns</p>\n",
              "</div>"
            ],
            "text/plain": [
              "   match_id  inning         batting_team                 bowling_team  over  \\\n",
              "0         1       1  Sunrisers Hyderabad  Royal Challengers Bangalore     1   \n",
              "1         1       1  Sunrisers Hyderabad  Royal Challengers Bangalore     1   \n",
              "\n",
              "   ball    batsman non_striker    bowler  is_super_over  ...  result  \\\n",
              "0     1  DA Warner    S Dhawan  TS Mills              0  ...  normal   \n",
              "1     2  DA Warner    S Dhawan  TS Mills              0  ...  normal   \n",
              "\n",
              "   dl_applied               winner  win_by_runs  win_by_wickets  \\\n",
              "0           0  Sunrisers Hyderabad           35               0   \n",
              "1           0  Sunrisers Hyderabad           35               0   \n",
              "\n",
              "   player_of_match                                      venue      umpire1  \\\n",
              "0     Yuvraj Singh  Rajiv Gandhi International Stadium, Uppal  AY Dandekar   \n",
              "1     Yuvraj Singh  Rajiv Gandhi International Stadium, Uppal  AY Dandekar   \n",
              "\n",
              "    umpire2 umpire3  \n",
              "0  NJ Llong     NaN  \n",
              "1  NJ Llong     NaN  \n",
              "\n",
              "[2 rows x 39 columns]"
            ]
          },
          "execution_count": 57,
          "metadata": {},
          "output_type": "execute_result"
        }
      ],
      "source": [
        "#merging the 2 datasets\n",
        "merge = pd.merge(deliveries,matches, left_on='match_id', right_on ='id')\n",
        "merge.head(2)"
      ]
    },
    {
      "cell_type": "code",
      "execution_count": 58,
      "metadata": {
        "colab": {
          "base_uri": "https://localhost:8080/"
        },
        "id": "u6FOExHBStLC",
        "outputId": "17eaf251-4133-4e0d-a020-56620f3379d4"
      },
      "outputs": [
        {
          "name": "stdout",
          "output_type": "stream",
          "text": [
            "<class 'pandas.core.frame.DataFrame'>\n",
            "Int64Index: 179078 entries, 0 to 179077\n",
            "Data columns (total 39 columns):\n",
            " #   Column            Non-Null Count   Dtype \n",
            "---  ------            --------------   ----- \n",
            " 0   match_id          179078 non-null  int64 \n",
            " 1   inning            179078 non-null  int64 \n",
            " 2   batting_team      179078 non-null  object\n",
            " 3   bowling_team      179078 non-null  object\n",
            " 4   over              179078 non-null  int64 \n",
            " 5   ball              179078 non-null  int64 \n",
            " 6   batsman           179078 non-null  object\n",
            " 7   non_striker       179078 non-null  object\n",
            " 8   bowler            179078 non-null  object\n",
            " 9   is_super_over     179078 non-null  int64 \n",
            " 10  wide_runs         179078 non-null  int64 \n",
            " 11  bye_runs          179078 non-null  int64 \n",
            " 12  legbye_runs       179078 non-null  int64 \n",
            " 13  noball_runs       179078 non-null  int64 \n",
            " 14  penalty_runs      179078 non-null  int64 \n",
            " 15  batsman_runs      179078 non-null  int64 \n",
            " 16  extra_runs        179078 non-null  int64 \n",
            " 17  total_runs        179078 non-null  int64 \n",
            " 18  player_dismissed  8834 non-null    object\n",
            " 19  dismissal_kind    8834 non-null    object\n",
            " 20  fielder           6448 non-null    object\n",
            " 21  id                179078 non-null  int64 \n",
            " 22  season            179078 non-null  int64 \n",
            " 23  city              177378 non-null  object\n",
            " 24  date              179078 non-null  object\n",
            " 25  team1             179078 non-null  object\n",
            " 26  team2             179078 non-null  object\n",
            " 27  toss_winner       179078 non-null  object\n",
            " 28  toss_decision     179078 non-null  object\n",
            " 29  result            179078 non-null  object\n",
            " 30  dl_applied        179078 non-null  int64 \n",
            " 31  winner            178706 non-null  object\n",
            " 32  win_by_runs       179078 non-null  int64 \n",
            " 33  win_by_wickets    179078 non-null  int64 \n",
            " 34  player_of_match   178706 non-null  object\n",
            " 35  venue             179078 non-null  object\n",
            " 36  umpire1           178578 non-null  object\n",
            " 37  umpire2           178578 non-null  object\n",
            " 38  umpire3           28366 non-null   object\n",
            "dtypes: int64(18), object(21)\n",
            "memory usage: 54.7+ MB\n"
          ]
        }
      ],
      "source": [
        "merge.info()"
      ]
    },
    {
      "cell_type": "code",
      "execution_count": 59,
      "metadata": {
        "colab": {
          "base_uri": "https://localhost:8080/",
          "height": 364
        },
        "id": "7z6biqN7StLC",
        "outputId": "5d009e31-179c-4aca-d06c-d14660101bac"
      },
      "outputs": [
        {
          "data": {
            "text/html": [
              "<div>\n",
              "<style scoped>\n",
              "    .dataframe tbody tr th:only-of-type {\n",
              "        vertical-align: middle;\n",
              "    }\n",
              "\n",
              "    .dataframe tbody tr th {\n",
              "        vertical-align: top;\n",
              "    }\n",
              "\n",
              "    .dataframe thead th {\n",
              "        text-align: right;\n",
              "    }\n",
              "</style>\n",
              "<table border=\"1\" class=\"dataframe\">\n",
              "  <thead>\n",
              "    <tr style=\"text-align: right;\">\n",
              "      <th></th>\n",
              "      <th>match_id</th>\n",
              "      <th>inning</th>\n",
              "      <th>over</th>\n",
              "      <th>ball</th>\n",
              "      <th>is_super_over</th>\n",
              "      <th>wide_runs</th>\n",
              "      <th>bye_runs</th>\n",
              "      <th>legbye_runs</th>\n",
              "      <th>noball_runs</th>\n",
              "      <th>penalty_runs</th>\n",
              "      <th>batsman_runs</th>\n",
              "      <th>extra_runs</th>\n",
              "      <th>total_runs</th>\n",
              "      <th>id</th>\n",
              "      <th>season</th>\n",
              "      <th>dl_applied</th>\n",
              "      <th>win_by_runs</th>\n",
              "      <th>win_by_wickets</th>\n",
              "    </tr>\n",
              "  </thead>\n",
              "  <tbody>\n",
              "    <tr>\n",
              "      <th>count</th>\n",
              "      <td>179078.000000</td>\n",
              "      <td>179078.000000</td>\n",
              "      <td>179078.000000</td>\n",
              "      <td>179078.000000</td>\n",
              "      <td>179078.000000</td>\n",
              "      <td>179078.000000</td>\n",
              "      <td>179078.000000</td>\n",
              "      <td>179078.000000</td>\n",
              "      <td>179078.000000</td>\n",
              "      <td>179078.000000</td>\n",
              "      <td>179078.000000</td>\n",
              "      <td>179078.000000</td>\n",
              "      <td>179078.000000</td>\n",
              "      <td>179078.000000</td>\n",
              "      <td>179078.000000</td>\n",
              "      <td>179078.000000</td>\n",
              "      <td>179078.000000</td>\n",
              "      <td>179078.000000</td>\n",
              "    </tr>\n",
              "    <tr>\n",
              "      <th>mean</th>\n",
              "      <td>1802.252957</td>\n",
              "      <td>1.482952</td>\n",
              "      <td>10.162488</td>\n",
              "      <td>3.615587</td>\n",
              "      <td>0.000452</td>\n",
              "      <td>0.036721</td>\n",
              "      <td>0.004936</td>\n",
              "      <td>0.021136</td>\n",
              "      <td>0.004183</td>\n",
              "      <td>0.000056</td>\n",
              "      <td>1.246864</td>\n",
              "      <td>0.067032</td>\n",
              "      <td>1.313897</td>\n",
              "      <td>1802.252957</td>\n",
              "      <td>2013.444510</td>\n",
              "      <td>0.017914</td>\n",
              "      <td>13.404036</td>\n",
              "      <td>3.261579</td>\n",
              "    </tr>\n",
              "    <tr>\n",
              "      <th>std</th>\n",
              "      <td>3472.322805</td>\n",
              "      <td>0.502074</td>\n",
              "      <td>5.677684</td>\n",
              "      <td>1.806966</td>\n",
              "      <td>0.021263</td>\n",
              "      <td>0.251161</td>\n",
              "      <td>0.116480</td>\n",
              "      <td>0.194908</td>\n",
              "      <td>0.070492</td>\n",
              "      <td>0.016709</td>\n",
              "      <td>1.608270</td>\n",
              "      <td>0.342553</td>\n",
              "      <td>1.605422</td>\n",
              "      <td>3472.322805</td>\n",
              "      <td>3.363947</td>\n",
              "      <td>0.132639</td>\n",
              "      <td>23.261007</td>\n",
              "      <td>3.347033</td>\n",
              "    </tr>\n",
              "    <tr>\n",
              "      <th>min</th>\n",
              "      <td>1.000000</td>\n",
              "      <td>1.000000</td>\n",
              "      <td>1.000000</td>\n",
              "      <td>1.000000</td>\n",
              "      <td>0.000000</td>\n",
              "      <td>0.000000</td>\n",
              "      <td>0.000000</td>\n",
              "      <td>0.000000</td>\n",
              "      <td>0.000000</td>\n",
              "      <td>0.000000</td>\n",
              "      <td>0.000000</td>\n",
              "      <td>0.000000</td>\n",
              "      <td>0.000000</td>\n",
              "      <td>1.000000</td>\n",
              "      <td>2008.000000</td>\n",
              "      <td>0.000000</td>\n",
              "      <td>0.000000</td>\n",
              "      <td>0.000000</td>\n",
              "    </tr>\n",
              "    <tr>\n",
              "      <th>25%</th>\n",
              "      <td>190.000000</td>\n",
              "      <td>1.000000</td>\n",
              "      <td>5.000000</td>\n",
              "      <td>2.000000</td>\n",
              "      <td>0.000000</td>\n",
              "      <td>0.000000</td>\n",
              "      <td>0.000000</td>\n",
              "      <td>0.000000</td>\n",
              "      <td>0.000000</td>\n",
              "      <td>0.000000</td>\n",
              "      <td>0.000000</td>\n",
              "      <td>0.000000</td>\n",
              "      <td>0.000000</td>\n",
              "      <td>190.000000</td>\n",
              "      <td>2011.000000</td>\n",
              "      <td>0.000000</td>\n",
              "      <td>0.000000</td>\n",
              "      <td>0.000000</td>\n",
              "    </tr>\n",
              "    <tr>\n",
              "      <th>50%</th>\n",
              "      <td>379.000000</td>\n",
              "      <td>1.000000</td>\n",
              "      <td>10.000000</td>\n",
              "      <td>4.000000</td>\n",
              "      <td>0.000000</td>\n",
              "      <td>0.000000</td>\n",
              "      <td>0.000000</td>\n",
              "      <td>0.000000</td>\n",
              "      <td>0.000000</td>\n",
              "      <td>0.000000</td>\n",
              "      <td>1.000000</td>\n",
              "      <td>0.000000</td>\n",
              "      <td>1.000000</td>\n",
              "      <td>379.000000</td>\n",
              "      <td>2013.000000</td>\n",
              "      <td>0.000000</td>\n",
              "      <td>0.000000</td>\n",
              "      <td>3.000000</td>\n",
              "    </tr>\n",
              "    <tr>\n",
              "      <th>75%</th>\n",
              "      <td>567.000000</td>\n",
              "      <td>2.000000</td>\n",
              "      <td>15.000000</td>\n",
              "      <td>5.000000</td>\n",
              "      <td>0.000000</td>\n",
              "      <td>0.000000</td>\n",
              "      <td>0.000000</td>\n",
              "      <td>0.000000</td>\n",
              "      <td>0.000000</td>\n",
              "      <td>0.000000</td>\n",
              "      <td>1.000000</td>\n",
              "      <td>0.000000</td>\n",
              "      <td>1.000000</td>\n",
              "      <td>567.000000</td>\n",
              "      <td>2016.000000</td>\n",
              "      <td>0.000000</td>\n",
              "      <td>19.000000</td>\n",
              "      <td>6.000000</td>\n",
              "    </tr>\n",
              "    <tr>\n",
              "      <th>max</th>\n",
              "      <td>11415.000000</td>\n",
              "      <td>5.000000</td>\n",
              "      <td>20.000000</td>\n",
              "      <td>9.000000</td>\n",
              "      <td>1.000000</td>\n",
              "      <td>5.000000</td>\n",
              "      <td>4.000000</td>\n",
              "      <td>5.000000</td>\n",
              "      <td>5.000000</td>\n",
              "      <td>5.000000</td>\n",
              "      <td>7.000000</td>\n",
              "      <td>7.000000</td>\n",
              "      <td>10.000000</td>\n",
              "      <td>11415.000000</td>\n",
              "      <td>2019.000000</td>\n",
              "      <td>1.000000</td>\n",
              "      <td>146.000000</td>\n",
              "      <td>10.000000</td>\n",
              "    </tr>\n",
              "  </tbody>\n",
              "</table>\n",
              "</div>"
            ],
            "text/plain": [
              "            match_id         inning           over           ball  \\\n",
              "count  179078.000000  179078.000000  179078.000000  179078.000000   \n",
              "mean     1802.252957       1.482952      10.162488       3.615587   \n",
              "std      3472.322805       0.502074       5.677684       1.806966   \n",
              "min         1.000000       1.000000       1.000000       1.000000   \n",
              "25%       190.000000       1.000000       5.000000       2.000000   \n",
              "50%       379.000000       1.000000      10.000000       4.000000   \n",
              "75%       567.000000       2.000000      15.000000       5.000000   \n",
              "max     11415.000000       5.000000      20.000000       9.000000   \n",
              "\n",
              "       is_super_over      wide_runs       bye_runs    legbye_runs  \\\n",
              "count  179078.000000  179078.000000  179078.000000  179078.000000   \n",
              "mean        0.000452       0.036721       0.004936       0.021136   \n",
              "std         0.021263       0.251161       0.116480       0.194908   \n",
              "min         0.000000       0.000000       0.000000       0.000000   \n",
              "25%         0.000000       0.000000       0.000000       0.000000   \n",
              "50%         0.000000       0.000000       0.000000       0.000000   \n",
              "75%         0.000000       0.000000       0.000000       0.000000   \n",
              "max         1.000000       5.000000       4.000000       5.000000   \n",
              "\n",
              "         noball_runs   penalty_runs   batsman_runs     extra_runs  \\\n",
              "count  179078.000000  179078.000000  179078.000000  179078.000000   \n",
              "mean        0.004183       0.000056       1.246864       0.067032   \n",
              "std         0.070492       0.016709       1.608270       0.342553   \n",
              "min         0.000000       0.000000       0.000000       0.000000   \n",
              "25%         0.000000       0.000000       0.000000       0.000000   \n",
              "50%         0.000000       0.000000       1.000000       0.000000   \n",
              "75%         0.000000       0.000000       1.000000       0.000000   \n",
              "max         5.000000       5.000000       7.000000       7.000000   \n",
              "\n",
              "          total_runs             id         season     dl_applied  \\\n",
              "count  179078.000000  179078.000000  179078.000000  179078.000000   \n",
              "mean        1.313897    1802.252957    2013.444510       0.017914   \n",
              "std         1.605422    3472.322805       3.363947       0.132639   \n",
              "min         0.000000       1.000000    2008.000000       0.000000   \n",
              "25%         0.000000     190.000000    2011.000000       0.000000   \n",
              "50%         1.000000     379.000000    2013.000000       0.000000   \n",
              "75%         1.000000     567.000000    2016.000000       0.000000   \n",
              "max        10.000000   11415.000000    2019.000000       1.000000   \n",
              "\n",
              "         win_by_runs  win_by_wickets  \n",
              "count  179078.000000   179078.000000  \n",
              "mean       13.404036        3.261579  \n",
              "std        23.261007        3.347033  \n",
              "min         0.000000        0.000000  \n",
              "25%         0.000000        0.000000  \n",
              "50%         0.000000        3.000000  \n",
              "75%        19.000000        6.000000  \n",
              "max       146.000000       10.000000  "
            ]
          },
          "execution_count": 59,
          "metadata": {},
          "output_type": "execute_result"
        }
      ],
      "source": [
        "merge.describe()"
      ]
    },
    {
      "cell_type": "code",
      "execution_count": 60,
      "metadata": {
        "colab": {
          "base_uri": "https://localhost:8080/"
        },
        "id": "tfRLCyxFStLD",
        "outputId": "b64c0f2d-ead3-4cfa-c2de-f8352091fa1d"
      },
      "outputs": [
        {
          "data": {
            "text/plain": [
              "True"
            ]
          },
          "execution_count": 60,
          "metadata": {},
          "output_type": "execute_result"
        }
      ],
      "source": [
        "matches.id.is_unique"
      ]
    },
    {
      "cell_type": "markdown",
      "metadata": {
        "id": "KaQ0JuWZStLD"
      },
      "source": [
        "- Note:<br>\n",
        "- since id is unique we can set this as our index"
      ]
    },
    {
      "cell_type": "code",
      "execution_count": 61,
      "metadata": {
        "id": "lzaH1pQ7StLE"
      },
      "outputs": [],
      "source": [
        "matches.set_index('id', inplace=True)"
      ]
    },
    {
      "cell_type": "code",
      "execution_count": 62,
      "metadata": {
        "colab": {
          "base_uri": "https://localhost:8080/",
          "height": 493
        },
        "id": "HMQbG0ccStLE",
        "outputId": "d875f835-f552-4d12-b201-96303e4b8aae"
      },
      "outputs": [
        {
          "data": {
            "text/html": [
              "<div>\n",
              "<style scoped>\n",
              "    .dataframe tbody tr th:only-of-type {\n",
              "        vertical-align: middle;\n",
              "    }\n",
              "\n",
              "    .dataframe tbody tr th {\n",
              "        vertical-align: top;\n",
              "    }\n",
              "\n",
              "    .dataframe thead th {\n",
              "        text-align: right;\n",
              "    }\n",
              "</style>\n",
              "<table border=\"1\" class=\"dataframe\">\n",
              "  <thead>\n",
              "    <tr style=\"text-align: right;\">\n",
              "      <th></th>\n",
              "      <th>season</th>\n",
              "      <th>city</th>\n",
              "      <th>date</th>\n",
              "      <th>team1</th>\n",
              "      <th>team2</th>\n",
              "      <th>toss_winner</th>\n",
              "      <th>toss_decision</th>\n",
              "      <th>result</th>\n",
              "      <th>dl_applied</th>\n",
              "      <th>winner</th>\n",
              "      <th>win_by_runs</th>\n",
              "      <th>win_by_wickets</th>\n",
              "      <th>player_of_match</th>\n",
              "      <th>venue</th>\n",
              "      <th>umpire1</th>\n",
              "      <th>umpire2</th>\n",
              "      <th>umpire3</th>\n",
              "    </tr>\n",
              "  </thead>\n",
              "  <tbody>\n",
              "    <tr>\n",
              "      <th>count</th>\n",
              "      <td>756.000000</td>\n",
              "      <td>749</td>\n",
              "      <td>756</td>\n",
              "      <td>756</td>\n",
              "      <td>756</td>\n",
              "      <td>756</td>\n",
              "      <td>756</td>\n",
              "      <td>756</td>\n",
              "      <td>756.000000</td>\n",
              "      <td>752</td>\n",
              "      <td>756.000000</td>\n",
              "      <td>756.000000</td>\n",
              "      <td>752</td>\n",
              "      <td>756</td>\n",
              "      <td>754</td>\n",
              "      <td>754</td>\n",
              "      <td>119</td>\n",
              "    </tr>\n",
              "    <tr>\n",
              "      <th>unique</th>\n",
              "      <td>NaN</td>\n",
              "      <td>32</td>\n",
              "      <td>546</td>\n",
              "      <td>15</td>\n",
              "      <td>15</td>\n",
              "      <td>15</td>\n",
              "      <td>2</td>\n",
              "      <td>3</td>\n",
              "      <td>NaN</td>\n",
              "      <td>15</td>\n",
              "      <td>NaN</td>\n",
              "      <td>NaN</td>\n",
              "      <td>226</td>\n",
              "      <td>41</td>\n",
              "      <td>61</td>\n",
              "      <td>65</td>\n",
              "      <td>25</td>\n",
              "    </tr>\n",
              "    <tr>\n",
              "      <th>top</th>\n",
              "      <td>NaN</td>\n",
              "      <td>Mumbai</td>\n",
              "      <td>2011-04-17</td>\n",
              "      <td>Mumbai Indians</td>\n",
              "      <td>Royal Challengers Bangalore</td>\n",
              "      <td>Mumbai Indians</td>\n",
              "      <td>field</td>\n",
              "      <td>normal</td>\n",
              "      <td>NaN</td>\n",
              "      <td>Mumbai Indians</td>\n",
              "      <td>NaN</td>\n",
              "      <td>NaN</td>\n",
              "      <td>CH Gayle</td>\n",
              "      <td>Eden Gardens</td>\n",
              "      <td>HDPK Dharmasena</td>\n",
              "      <td>C Shamshuddin</td>\n",
              "      <td>Nitin Menon</td>\n",
              "    </tr>\n",
              "    <tr>\n",
              "      <th>freq</th>\n",
              "      <td>NaN</td>\n",
              "      <td>101</td>\n",
              "      <td>2</td>\n",
              "      <td>101</td>\n",
              "      <td>95</td>\n",
              "      <td>98</td>\n",
              "      <td>463</td>\n",
              "      <td>743</td>\n",
              "      <td>NaN</td>\n",
              "      <td>109</td>\n",
              "      <td>NaN</td>\n",
              "      <td>NaN</td>\n",
              "      <td>21</td>\n",
              "      <td>77</td>\n",
              "      <td>73</td>\n",
              "      <td>57</td>\n",
              "      <td>10</td>\n",
              "    </tr>\n",
              "    <tr>\n",
              "      <th>mean</th>\n",
              "      <td>2013.444444</td>\n",
              "      <td>NaN</td>\n",
              "      <td>NaN</td>\n",
              "      <td>NaN</td>\n",
              "      <td>NaN</td>\n",
              "      <td>NaN</td>\n",
              "      <td>NaN</td>\n",
              "      <td>NaN</td>\n",
              "      <td>0.025132</td>\n",
              "      <td>NaN</td>\n",
              "      <td>13.283069</td>\n",
              "      <td>3.350529</td>\n",
              "      <td>NaN</td>\n",
              "      <td>NaN</td>\n",
              "      <td>NaN</td>\n",
              "      <td>NaN</td>\n",
              "      <td>NaN</td>\n",
              "    </tr>\n",
              "    <tr>\n",
              "      <th>std</th>\n",
              "      <td>3.366895</td>\n",
              "      <td>NaN</td>\n",
              "      <td>NaN</td>\n",
              "      <td>NaN</td>\n",
              "      <td>NaN</td>\n",
              "      <td>NaN</td>\n",
              "      <td>NaN</td>\n",
              "      <td>NaN</td>\n",
              "      <td>0.156630</td>\n",
              "      <td>NaN</td>\n",
              "      <td>23.471144</td>\n",
              "      <td>3.387963</td>\n",
              "      <td>NaN</td>\n",
              "      <td>NaN</td>\n",
              "      <td>NaN</td>\n",
              "      <td>NaN</td>\n",
              "      <td>NaN</td>\n",
              "    </tr>\n",
              "    <tr>\n",
              "      <th>min</th>\n",
              "      <td>2008.000000</td>\n",
              "      <td>NaN</td>\n",
              "      <td>NaN</td>\n",
              "      <td>NaN</td>\n",
              "      <td>NaN</td>\n",
              "      <td>NaN</td>\n",
              "      <td>NaN</td>\n",
              "      <td>NaN</td>\n",
              "      <td>0.000000</td>\n",
              "      <td>NaN</td>\n",
              "      <td>0.000000</td>\n",
              "      <td>0.000000</td>\n",
              "      <td>NaN</td>\n",
              "      <td>NaN</td>\n",
              "      <td>NaN</td>\n",
              "      <td>NaN</td>\n",
              "      <td>NaN</td>\n",
              "    </tr>\n",
              "    <tr>\n",
              "      <th>25%</th>\n",
              "      <td>2011.000000</td>\n",
              "      <td>NaN</td>\n",
              "      <td>NaN</td>\n",
              "      <td>NaN</td>\n",
              "      <td>NaN</td>\n",
              "      <td>NaN</td>\n",
              "      <td>NaN</td>\n",
              "      <td>NaN</td>\n",
              "      <td>0.000000</td>\n",
              "      <td>NaN</td>\n",
              "      <td>0.000000</td>\n",
              "      <td>0.000000</td>\n",
              "      <td>NaN</td>\n",
              "      <td>NaN</td>\n",
              "      <td>NaN</td>\n",
              "      <td>NaN</td>\n",
              "      <td>NaN</td>\n",
              "    </tr>\n",
              "    <tr>\n",
              "      <th>50%</th>\n",
              "      <td>2013.000000</td>\n",
              "      <td>NaN</td>\n",
              "      <td>NaN</td>\n",
              "      <td>NaN</td>\n",
              "      <td>NaN</td>\n",
              "      <td>NaN</td>\n",
              "      <td>NaN</td>\n",
              "      <td>NaN</td>\n",
              "      <td>0.000000</td>\n",
              "      <td>NaN</td>\n",
              "      <td>0.000000</td>\n",
              "      <td>4.000000</td>\n",
              "      <td>NaN</td>\n",
              "      <td>NaN</td>\n",
              "      <td>NaN</td>\n",
              "      <td>NaN</td>\n",
              "      <td>NaN</td>\n",
              "    </tr>\n",
              "    <tr>\n",
              "      <th>75%</th>\n",
              "      <td>2016.000000</td>\n",
              "      <td>NaN</td>\n",
              "      <td>NaN</td>\n",
              "      <td>NaN</td>\n",
              "      <td>NaN</td>\n",
              "      <td>NaN</td>\n",
              "      <td>NaN</td>\n",
              "      <td>NaN</td>\n",
              "      <td>0.000000</td>\n",
              "      <td>NaN</td>\n",
              "      <td>19.000000</td>\n",
              "      <td>6.000000</td>\n",
              "      <td>NaN</td>\n",
              "      <td>NaN</td>\n",
              "      <td>NaN</td>\n",
              "      <td>NaN</td>\n",
              "      <td>NaN</td>\n",
              "    </tr>\n",
              "    <tr>\n",
              "      <th>max</th>\n",
              "      <td>2019.000000</td>\n",
              "      <td>NaN</td>\n",
              "      <td>NaN</td>\n",
              "      <td>NaN</td>\n",
              "      <td>NaN</td>\n",
              "      <td>NaN</td>\n",
              "      <td>NaN</td>\n",
              "      <td>NaN</td>\n",
              "      <td>1.000000</td>\n",
              "      <td>NaN</td>\n",
              "      <td>146.000000</td>\n",
              "      <td>10.000000</td>\n",
              "      <td>NaN</td>\n",
              "      <td>NaN</td>\n",
              "      <td>NaN</td>\n",
              "      <td>NaN</td>\n",
              "      <td>NaN</td>\n",
              "    </tr>\n",
              "  </tbody>\n",
              "</table>\n",
              "</div>"
            ],
            "text/plain": [
              "             season    city        date           team1  \\\n",
              "count    756.000000     749         756             756   \n",
              "unique          NaN      32         546              15   \n",
              "top             NaN  Mumbai  2011-04-17  Mumbai Indians   \n",
              "freq            NaN     101           2             101   \n",
              "mean    2013.444444     NaN         NaN             NaN   \n",
              "std        3.366895     NaN         NaN             NaN   \n",
              "min     2008.000000     NaN         NaN             NaN   \n",
              "25%     2011.000000     NaN         NaN             NaN   \n",
              "50%     2013.000000     NaN         NaN             NaN   \n",
              "75%     2016.000000     NaN         NaN             NaN   \n",
              "max     2019.000000     NaN         NaN             NaN   \n",
              "\n",
              "                              team2     toss_winner toss_decision  result  \\\n",
              "count                           756             756           756     756   \n",
              "unique                           15              15             2       3   \n",
              "top     Royal Challengers Bangalore  Mumbai Indians         field  normal   \n",
              "freq                             95              98           463     743   \n",
              "mean                            NaN             NaN           NaN     NaN   \n",
              "std                             NaN             NaN           NaN     NaN   \n",
              "min                             NaN             NaN           NaN     NaN   \n",
              "25%                             NaN             NaN           NaN     NaN   \n",
              "50%                             NaN             NaN           NaN     NaN   \n",
              "75%                             NaN             NaN           NaN     NaN   \n",
              "max                             NaN             NaN           NaN     NaN   \n",
              "\n",
              "        dl_applied          winner  win_by_runs  win_by_wickets  \\\n",
              "count   756.000000             752   756.000000      756.000000   \n",
              "unique         NaN              15          NaN             NaN   \n",
              "top            NaN  Mumbai Indians          NaN             NaN   \n",
              "freq           NaN             109          NaN             NaN   \n",
              "mean      0.025132             NaN    13.283069        3.350529   \n",
              "std       0.156630             NaN    23.471144        3.387963   \n",
              "min       0.000000             NaN     0.000000        0.000000   \n",
              "25%       0.000000             NaN     0.000000        0.000000   \n",
              "50%       0.000000             NaN     0.000000        4.000000   \n",
              "75%       0.000000             NaN    19.000000        6.000000   \n",
              "max       1.000000             NaN   146.000000       10.000000   \n",
              "\n",
              "       player_of_match         venue          umpire1        umpire2  \\\n",
              "count              752           756              754            754   \n",
              "unique             226            41               61             65   \n",
              "top           CH Gayle  Eden Gardens  HDPK Dharmasena  C Shamshuddin   \n",
              "freq                21            77               73             57   \n",
              "mean               NaN           NaN              NaN            NaN   \n",
              "std                NaN           NaN              NaN            NaN   \n",
              "min                NaN           NaN              NaN            NaN   \n",
              "25%                NaN           NaN              NaN            NaN   \n",
              "50%                NaN           NaN              NaN            NaN   \n",
              "75%                NaN           NaN              NaN            NaN   \n",
              "max                NaN           NaN              NaN            NaN   \n",
              "\n",
              "            umpire3  \n",
              "count           119  \n",
              "unique           25  \n",
              "top     Nitin Menon  \n",
              "freq             10  \n",
              "mean            NaN  \n",
              "std             NaN  \n",
              "min             NaN  \n",
              "25%             NaN  \n",
              "50%             NaN  \n",
              "75%             NaN  \n",
              "max             NaN  "
            ]
          },
          "execution_count": 62,
          "metadata": {},
          "output_type": "execute_result"
        }
      ],
      "source": [
        "#Summary statistics of matches data\n",
        "matches.describe(include = 'all')"
      ]
    },
    {
      "cell_type": "markdown",
      "metadata": {
        "id": "uOGt8G8qStLE"
      },
      "source": [
        "### Data Preprocessing <br>\n",
        "- Here we will perform Data Preprocessing on our matches dataset first, to make the data usable for EDA."
      ]
    },
    {
      "cell_type": "code",
      "execution_count": 63,
      "metadata": {
        "colab": {
          "base_uri": "https://localhost:8080/",
          "height": 677
        },
        "id": "6hmW-RsWStLF",
        "outputId": "aa936e45-a457-4a83-fa1d-610b7daf965b"
      },
      "outputs": [
        {
          "data": {
            "text/html": [
              "<div>\n",
              "<style scoped>\n",
              "    .dataframe tbody tr th:only-of-type {\n",
              "        vertical-align: middle;\n",
              "    }\n",
              "\n",
              "    .dataframe tbody tr th {\n",
              "        vertical-align: top;\n",
              "    }\n",
              "\n",
              "    .dataframe thead th {\n",
              "        text-align: right;\n",
              "    }\n",
              "</style>\n",
              "<table border=\"1\" class=\"dataframe\">\n",
              "  <thead>\n",
              "    <tr style=\"text-align: right;\">\n",
              "      <th></th>\n",
              "      <th>season</th>\n",
              "      <th>city</th>\n",
              "      <th>date</th>\n",
              "      <th>team1</th>\n",
              "      <th>team2</th>\n",
              "      <th>toss_winner</th>\n",
              "      <th>toss_decision</th>\n",
              "      <th>result</th>\n",
              "      <th>dl_applied</th>\n",
              "      <th>winner</th>\n",
              "      <th>win_by_runs</th>\n",
              "      <th>win_by_wickets</th>\n",
              "      <th>player_of_match</th>\n",
              "      <th>venue</th>\n",
              "      <th>umpire1</th>\n",
              "      <th>umpire2</th>\n",
              "      <th>umpire3</th>\n",
              "    </tr>\n",
              "    <tr>\n",
              "      <th>id</th>\n",
              "      <th></th>\n",
              "      <th></th>\n",
              "      <th></th>\n",
              "      <th></th>\n",
              "      <th></th>\n",
              "      <th></th>\n",
              "      <th></th>\n",
              "      <th></th>\n",
              "      <th></th>\n",
              "      <th></th>\n",
              "      <th></th>\n",
              "      <th></th>\n",
              "      <th></th>\n",
              "      <th></th>\n",
              "      <th></th>\n",
              "      <th></th>\n",
              "      <th></th>\n",
              "    </tr>\n",
              "  </thead>\n",
              "  <tbody>\n",
              "    <tr>\n",
              "      <th>1</th>\n",
              "      <td>2017</td>\n",
              "      <td>Hyderabad</td>\n",
              "      <td>2017-04-05</td>\n",
              "      <td>Sunrisers Hyderabad</td>\n",
              "      <td>Royal Challengers Bangalore</td>\n",
              "      <td>Royal Challengers Bangalore</td>\n",
              "      <td>field</td>\n",
              "      <td>normal</td>\n",
              "      <td>0</td>\n",
              "      <td>Sunrisers Hyderabad</td>\n",
              "      <td>35</td>\n",
              "      <td>0</td>\n",
              "      <td>Yuvraj Singh</td>\n",
              "      <td>Rajiv Gandhi International Stadium, Uppal</td>\n",
              "      <td>AY Dandekar</td>\n",
              "      <td>NJ Llong</td>\n",
              "      <td>NaN</td>\n",
              "    </tr>\n",
              "    <tr>\n",
              "      <th>2</th>\n",
              "      <td>2017</td>\n",
              "      <td>Pune</td>\n",
              "      <td>2017-04-06</td>\n",
              "      <td>Mumbai Indians</td>\n",
              "      <td>Rising Pune Supergiant</td>\n",
              "      <td>Rising Pune Supergiant</td>\n",
              "      <td>field</td>\n",
              "      <td>normal</td>\n",
              "      <td>0</td>\n",
              "      <td>Rising Pune Supergiant</td>\n",
              "      <td>0</td>\n",
              "      <td>7</td>\n",
              "      <td>SPD Smith</td>\n",
              "      <td>Maharashtra Cricket Association Stadium</td>\n",
              "      <td>A Nand Kishore</td>\n",
              "      <td>S Ravi</td>\n",
              "      <td>NaN</td>\n",
              "    </tr>\n",
              "    <tr>\n",
              "      <th>3</th>\n",
              "      <td>2017</td>\n",
              "      <td>Rajkot</td>\n",
              "      <td>2017-04-07</td>\n",
              "      <td>Gujarat Lions</td>\n",
              "      <td>Kolkata Knight Riders</td>\n",
              "      <td>Kolkata Knight Riders</td>\n",
              "      <td>field</td>\n",
              "      <td>normal</td>\n",
              "      <td>0</td>\n",
              "      <td>Kolkata Knight Riders</td>\n",
              "      <td>0</td>\n",
              "      <td>10</td>\n",
              "      <td>CA Lynn</td>\n",
              "      <td>Saurashtra Cricket Association Stadium</td>\n",
              "      <td>Nitin Menon</td>\n",
              "      <td>CK Nandan</td>\n",
              "      <td>NaN</td>\n",
              "    </tr>\n",
              "    <tr>\n",
              "      <th>4</th>\n",
              "      <td>2017</td>\n",
              "      <td>Indore</td>\n",
              "      <td>2017-04-08</td>\n",
              "      <td>Rising Pune Supergiant</td>\n",
              "      <td>Kings XI Punjab</td>\n",
              "      <td>Kings XI Punjab</td>\n",
              "      <td>field</td>\n",
              "      <td>normal</td>\n",
              "      <td>0</td>\n",
              "      <td>Kings XI Punjab</td>\n",
              "      <td>0</td>\n",
              "      <td>6</td>\n",
              "      <td>GJ Maxwell</td>\n",
              "      <td>Holkar Cricket Stadium</td>\n",
              "      <td>AK Chaudhary</td>\n",
              "      <td>C Shamshuddin</td>\n",
              "      <td>NaN</td>\n",
              "    </tr>\n",
              "    <tr>\n",
              "      <th>5</th>\n",
              "      <td>2017</td>\n",
              "      <td>Bangalore</td>\n",
              "      <td>2017-04-08</td>\n",
              "      <td>Royal Challengers Bangalore</td>\n",
              "      <td>Delhi Daredevils</td>\n",
              "      <td>Royal Challengers Bangalore</td>\n",
              "      <td>bat</td>\n",
              "      <td>normal</td>\n",
              "      <td>0</td>\n",
              "      <td>Royal Challengers Bangalore</td>\n",
              "      <td>15</td>\n",
              "      <td>0</td>\n",
              "      <td>KM Jadhav</td>\n",
              "      <td>M Chinnaswamy Stadium</td>\n",
              "      <td>NaN</td>\n",
              "      <td>NaN</td>\n",
              "      <td>NaN</td>\n",
              "    </tr>\n",
              "    <tr>\n",
              "      <th>6</th>\n",
              "      <td>2017</td>\n",
              "      <td>Hyderabad</td>\n",
              "      <td>2017-04-09</td>\n",
              "      <td>Gujarat Lions</td>\n",
              "      <td>Sunrisers Hyderabad</td>\n",
              "      <td>Sunrisers Hyderabad</td>\n",
              "      <td>field</td>\n",
              "      <td>normal</td>\n",
              "      <td>0</td>\n",
              "      <td>Sunrisers Hyderabad</td>\n",
              "      <td>0</td>\n",
              "      <td>9</td>\n",
              "      <td>Rashid Khan</td>\n",
              "      <td>Rajiv Gandhi International Stadium, Uppal</td>\n",
              "      <td>A Deshmukh</td>\n",
              "      <td>NJ Llong</td>\n",
              "      <td>NaN</td>\n",
              "    </tr>\n",
              "    <tr>\n",
              "      <th>7</th>\n",
              "      <td>2017</td>\n",
              "      <td>Mumbai</td>\n",
              "      <td>2017-04-09</td>\n",
              "      <td>Kolkata Knight Riders</td>\n",
              "      <td>Mumbai Indians</td>\n",
              "      <td>Mumbai Indians</td>\n",
              "      <td>field</td>\n",
              "      <td>normal</td>\n",
              "      <td>0</td>\n",
              "      <td>Mumbai Indians</td>\n",
              "      <td>0</td>\n",
              "      <td>4</td>\n",
              "      <td>N Rana</td>\n",
              "      <td>Wankhede Stadium</td>\n",
              "      <td>Nitin Menon</td>\n",
              "      <td>CK Nandan</td>\n",
              "      <td>NaN</td>\n",
              "    </tr>\n",
              "  </tbody>\n",
              "</table>\n",
              "</div>"
            ],
            "text/plain": [
              "    season       city        date                        team1  \\\n",
              "id                                                               \n",
              "1     2017  Hyderabad  2017-04-05          Sunrisers Hyderabad   \n",
              "2     2017       Pune  2017-04-06               Mumbai Indians   \n",
              "3     2017     Rajkot  2017-04-07                Gujarat Lions   \n",
              "4     2017     Indore  2017-04-08       Rising Pune Supergiant   \n",
              "5     2017  Bangalore  2017-04-08  Royal Challengers Bangalore   \n",
              "6     2017  Hyderabad  2017-04-09                Gujarat Lions   \n",
              "7     2017     Mumbai  2017-04-09        Kolkata Knight Riders   \n",
              "\n",
              "                          team2                  toss_winner toss_decision  \\\n",
              "id                                                                           \n",
              "1   Royal Challengers Bangalore  Royal Challengers Bangalore         field   \n",
              "2        Rising Pune Supergiant       Rising Pune Supergiant         field   \n",
              "3         Kolkata Knight Riders        Kolkata Knight Riders         field   \n",
              "4               Kings XI Punjab              Kings XI Punjab         field   \n",
              "5              Delhi Daredevils  Royal Challengers Bangalore           bat   \n",
              "6           Sunrisers Hyderabad          Sunrisers Hyderabad         field   \n",
              "7                Mumbai Indians               Mumbai Indians         field   \n",
              "\n",
              "    result  dl_applied                       winner  win_by_runs  \\\n",
              "id                                                                 \n",
              "1   normal           0          Sunrisers Hyderabad           35   \n",
              "2   normal           0       Rising Pune Supergiant            0   \n",
              "3   normal           0        Kolkata Knight Riders            0   \n",
              "4   normal           0              Kings XI Punjab            0   \n",
              "5   normal           0  Royal Challengers Bangalore           15   \n",
              "6   normal           0          Sunrisers Hyderabad            0   \n",
              "7   normal           0               Mumbai Indians            0   \n",
              "\n",
              "    win_by_wickets player_of_match                                      venue  \\\n",
              "id                                                                              \n",
              "1                0    Yuvraj Singh  Rajiv Gandhi International Stadium, Uppal   \n",
              "2                7       SPD Smith    Maharashtra Cricket Association Stadium   \n",
              "3               10         CA Lynn     Saurashtra Cricket Association Stadium   \n",
              "4                6      GJ Maxwell                     Holkar Cricket Stadium   \n",
              "5                0       KM Jadhav                      M Chinnaswamy Stadium   \n",
              "6                9     Rashid Khan  Rajiv Gandhi International Stadium, Uppal   \n",
              "7                4          N Rana                           Wankhede Stadium   \n",
              "\n",
              "           umpire1        umpire2 umpire3  \n",
              "id                                         \n",
              "1      AY Dandekar       NJ Llong     NaN  \n",
              "2   A Nand Kishore         S Ravi     NaN  \n",
              "3      Nitin Menon      CK Nandan     NaN  \n",
              "4     AK Chaudhary  C Shamshuddin     NaN  \n",
              "5              NaN            NaN     NaN  \n",
              "6       A Deshmukh       NJ Llong     NaN  \n",
              "7      Nitin Menon      CK Nandan     NaN  "
            ]
          },
          "execution_count": 63,
          "metadata": {},
          "output_type": "execute_result"
        }
      ],
      "source": [
        "matches.head(n=7)"
      ]
    },
    {
      "cell_type": "markdown",
      "metadata": {
        "id": "DAA2Cy_LStLF"
      },
      "source": [
        "### From Pre profiling, we found that:\n",
        "\n",
        "- city has missing values\n",
        "\n",
        "- team1 and team2 columns have 14 distinct values but winner has 15 distinct values\n",
        "\n",
        "- umpire1 and umpire2 have 1 missing value each\n",
        "\n",
        "- umpire3 has 94% missing values\n",
        "\n",
        "- city has 33 distinct values while venue has 35 distinct values"
      ]
    },
    {
      "cell_type": "markdown",
      "metadata": {
        "id": "yTWj1yMDStLF"
      },
      "source": [
        "### Filling in the missing values of city column\n",
        "### First let's find the venues corresponding to which the values of city are empty"
      ]
    },
    {
      "cell_type": "code",
      "execution_count": 64,
      "metadata": {
        "colab": {
          "base_uri": "https://localhost:8080/",
          "height": 300
        },
        "id": "YumZwwuiStLF",
        "outputId": "1720e3e5-91eb-45b1-8cda-c599a1ad0a35"
      },
      "outputs": [
        {
          "data": {
            "text/html": [
              "<div>\n",
              "<style scoped>\n",
              "    .dataframe tbody tr th:only-of-type {\n",
              "        vertical-align: middle;\n",
              "    }\n",
              "\n",
              "    .dataframe tbody tr th {\n",
              "        vertical-align: top;\n",
              "    }\n",
              "\n",
              "    .dataframe thead th {\n",
              "        text-align: right;\n",
              "    }\n",
              "</style>\n",
              "<table border=\"1\" class=\"dataframe\">\n",
              "  <thead>\n",
              "    <tr style=\"text-align: right;\">\n",
              "      <th></th>\n",
              "      <th>city</th>\n",
              "      <th>venue</th>\n",
              "    </tr>\n",
              "    <tr>\n",
              "      <th>id</th>\n",
              "      <th></th>\n",
              "      <th></th>\n",
              "    </tr>\n",
              "  </thead>\n",
              "  <tbody>\n",
              "    <tr>\n",
              "      <th>462</th>\n",
              "      <td>NaN</td>\n",
              "      <td>Dubai International Cricket Stadium</td>\n",
              "    </tr>\n",
              "    <tr>\n",
              "      <th>463</th>\n",
              "      <td>NaN</td>\n",
              "      <td>Dubai International Cricket Stadium</td>\n",
              "    </tr>\n",
              "    <tr>\n",
              "      <th>467</th>\n",
              "      <td>NaN</td>\n",
              "      <td>Dubai International Cricket Stadium</td>\n",
              "    </tr>\n",
              "    <tr>\n",
              "      <th>469</th>\n",
              "      <td>NaN</td>\n",
              "      <td>Dubai International Cricket Stadium</td>\n",
              "    </tr>\n",
              "    <tr>\n",
              "      <th>470</th>\n",
              "      <td>NaN</td>\n",
              "      <td>Dubai International Cricket Stadium</td>\n",
              "    </tr>\n",
              "    <tr>\n",
              "      <th>475</th>\n",
              "      <td>NaN</td>\n",
              "      <td>Dubai International Cricket Stadium</td>\n",
              "    </tr>\n",
              "    <tr>\n",
              "      <th>477</th>\n",
              "      <td>NaN</td>\n",
              "      <td>Dubai International Cricket Stadium</td>\n",
              "    </tr>\n",
              "  </tbody>\n",
              "</table>\n",
              "</div>"
            ],
            "text/plain": [
              "    city                                venue\n",
              "id                                           \n",
              "462  NaN  Dubai International Cricket Stadium\n",
              "463  NaN  Dubai International Cricket Stadium\n",
              "467  NaN  Dubai International Cricket Stadium\n",
              "469  NaN  Dubai International Cricket Stadium\n",
              "470  NaN  Dubai International Cricket Stadium\n",
              "475  NaN  Dubai International Cricket Stadium\n",
              "477  NaN  Dubai International Cricket Stadium"
            ]
          },
          "execution_count": 64,
          "metadata": {},
          "output_type": "execute_result"
        }
      ],
      "source": [
        "matches[matches.city.isnull()][['city','venue']]"
      ]
    },
    {
      "cell_type": "markdown",
      "metadata": {
        "id": "No74QyP-StLG"
      },
      "source": [
        "- So, missing values can be filled with Dubai"
      ]
    },
    {
      "cell_type": "code",
      "execution_count": 65,
      "metadata": {
        "id": "uIx4RnD_StLG"
      },
      "outputs": [],
      "source": [
        "matches.city = matches.city.fillna('Dubai')\n"
      ]
    },
    {
      "cell_type": "markdown",
      "metadata": {
        "id": "T-GfL_ksStLG"
      },
      "source": [
        "- umpire1 and umpire2 columns have one missing value each."
      ]
    },
    {
      "cell_type": "code",
      "execution_count": 66,
      "metadata": {
        "colab": {
          "base_uri": "https://localhost:8080/",
          "height": 260
        },
        "id": "scSBsFjaStLG",
        "outputId": "55c8a9a5-592f-4f1a-9b62-b5d73be2ce9d"
      },
      "outputs": [
        {
          "data": {
            "text/html": [
              "<div>\n",
              "<style scoped>\n",
              "    .dataframe tbody tr th:only-of-type {\n",
              "        vertical-align: middle;\n",
              "    }\n",
              "\n",
              "    .dataframe tbody tr th {\n",
              "        vertical-align: top;\n",
              "    }\n",
              "\n",
              "    .dataframe thead th {\n",
              "        text-align: right;\n",
              "    }\n",
              "</style>\n",
              "<table border=\"1\" class=\"dataframe\">\n",
              "  <thead>\n",
              "    <tr style=\"text-align: right;\">\n",
              "      <th></th>\n",
              "      <th>season</th>\n",
              "      <th>city</th>\n",
              "      <th>date</th>\n",
              "      <th>team1</th>\n",
              "      <th>team2</th>\n",
              "      <th>toss_winner</th>\n",
              "      <th>toss_decision</th>\n",
              "      <th>result</th>\n",
              "      <th>dl_applied</th>\n",
              "      <th>winner</th>\n",
              "      <th>win_by_runs</th>\n",
              "      <th>win_by_wickets</th>\n",
              "      <th>player_of_match</th>\n",
              "      <th>venue</th>\n",
              "      <th>umpire1</th>\n",
              "      <th>umpire2</th>\n",
              "      <th>umpire3</th>\n",
              "    </tr>\n",
              "    <tr>\n",
              "      <th>id</th>\n",
              "      <th></th>\n",
              "      <th></th>\n",
              "      <th></th>\n",
              "      <th></th>\n",
              "      <th></th>\n",
              "      <th></th>\n",
              "      <th></th>\n",
              "      <th></th>\n",
              "      <th></th>\n",
              "      <th></th>\n",
              "      <th></th>\n",
              "      <th></th>\n",
              "      <th></th>\n",
              "      <th></th>\n",
              "      <th></th>\n",
              "      <th></th>\n",
              "      <th></th>\n",
              "    </tr>\n",
              "  </thead>\n",
              "  <tbody>\n",
              "    <tr>\n",
              "      <th>5</th>\n",
              "      <td>2017</td>\n",
              "      <td>Bangalore</td>\n",
              "      <td>2017-04-08</td>\n",
              "      <td>Royal Challengers Bangalore</td>\n",
              "      <td>Delhi Daredevils</td>\n",
              "      <td>Royal Challengers Bangalore</td>\n",
              "      <td>bat</td>\n",
              "      <td>normal</td>\n",
              "      <td>0</td>\n",
              "      <td>Royal Challengers Bangalore</td>\n",
              "      <td>15</td>\n",
              "      <td>0</td>\n",
              "      <td>KM Jadhav</td>\n",
              "      <td>M Chinnaswamy Stadium</td>\n",
              "      <td>NaN</td>\n",
              "      <td>NaN</td>\n",
              "      <td>NaN</td>\n",
              "    </tr>\n",
              "    <tr>\n",
              "      <th>11413</th>\n",
              "      <td>2019</td>\n",
              "      <td>Visakhapatnam</td>\n",
              "      <td>08/05/19</td>\n",
              "      <td>Sunrisers Hyderabad</td>\n",
              "      <td>Delhi Capitals</td>\n",
              "      <td>Delhi Capitals</td>\n",
              "      <td>field</td>\n",
              "      <td>normal</td>\n",
              "      <td>0</td>\n",
              "      <td>Delhi Capitals</td>\n",
              "      <td>0</td>\n",
              "      <td>2</td>\n",
              "      <td>RR Pant</td>\n",
              "      <td>ACA-VDCA Stadium</td>\n",
              "      <td>NaN</td>\n",
              "      <td>NaN</td>\n",
              "      <td>NaN</td>\n",
              "    </tr>\n",
              "  </tbody>\n",
              "</table>\n",
              "</div>"
            ],
            "text/plain": [
              "       season           city        date                        team1  \\\n",
              "id                                                                      \n",
              "5        2017      Bangalore  2017-04-08  Royal Challengers Bangalore   \n",
              "11413    2019  Visakhapatnam    08/05/19          Sunrisers Hyderabad   \n",
              "\n",
              "                  team2                  toss_winner toss_decision  result  \\\n",
              "id                                                                           \n",
              "5      Delhi Daredevils  Royal Challengers Bangalore           bat  normal   \n",
              "11413    Delhi Capitals               Delhi Capitals         field  normal   \n",
              "\n",
              "       dl_applied                       winner  win_by_runs  win_by_wickets  \\\n",
              "id                                                                            \n",
              "5               0  Royal Challengers Bangalore           15               0   \n",
              "11413           0               Delhi Capitals            0               2   \n",
              "\n",
              "      player_of_match                  venue umpire1 umpire2 umpire3  \n",
              "id                                                                    \n",
              "5           KM Jadhav  M Chinnaswamy Stadium     NaN     NaN     NaN  \n",
              "11413         RR Pant       ACA-VDCA Stadium     NaN     NaN     NaN  "
            ]
          },
          "execution_count": 66,
          "metadata": {},
          "output_type": "execute_result"
        }
      ],
      "source": [
        "matches[(matches.umpire1.isnull()) | (matches.umpire2.isnull())]"
      ]
    },
    {
      "cell_type": "markdown",
      "metadata": {
        "id": "aVwIQjQ4StLH"
      },
      "source": [
        "- Umpire3 column has close to 92% missing values. hence dropping that column\n"
      ]
    },
    {
      "cell_type": "code",
      "execution_count": 67,
      "metadata": {
        "id": "UYKJzG5iStLH"
      },
      "outputs": [],
      "source": [
        "matches = matches.drop('umpire3', axis = 1)"
      ]
    },
    {
      "cell_type": "code",
      "execution_count": 68,
      "metadata": {
        "colab": {
          "base_uri": "https://localhost:8080/",
          "height": 1000
        },
        "id": "w-EmUkFlStLH",
        "outputId": "d50bb6b4-28c9-494a-e1cb-435ec45cf434"
      },
      "outputs": [
        {
          "data": {
            "text/html": [
              "<div>\n",
              "<style scoped>\n",
              "    .dataframe tbody tr th:only-of-type {\n",
              "        vertical-align: middle;\n",
              "    }\n",
              "\n",
              "    .dataframe tbody tr th {\n",
              "        vertical-align: top;\n",
              "    }\n",
              "\n",
              "    .dataframe thead th {\n",
              "        text-align: right;\n",
              "    }\n",
              "</style>\n",
              "<table border=\"1\" class=\"dataframe\">\n",
              "  <thead>\n",
              "    <tr style=\"text-align: right;\">\n",
              "      <th></th>\n",
              "      <th></th>\n",
              "      <th>season</th>\n",
              "    </tr>\n",
              "    <tr>\n",
              "      <th>city</th>\n",
              "      <th>venue</th>\n",
              "      <th></th>\n",
              "    </tr>\n",
              "  </thead>\n",
              "  <tbody>\n",
              "    <tr>\n",
              "      <th>Abu Dhabi</th>\n",
              "      <th>Sheikh Zayed Stadium</th>\n",
              "      <td>7</td>\n",
              "    </tr>\n",
              "    <tr>\n",
              "      <th>Ahmedabad</th>\n",
              "      <th>Sardar Patel Stadium, Motera</th>\n",
              "      <td>12</td>\n",
              "    </tr>\n",
              "    <tr>\n",
              "      <th>Bangalore</th>\n",
              "      <th>M Chinnaswamy Stadium</th>\n",
              "      <td>66</td>\n",
              "    </tr>\n",
              "    <tr>\n",
              "      <th rowspan=\"2\" valign=\"top\">Bengaluru</th>\n",
              "      <th>M Chinnaswamy Stadium</th>\n",
              "      <td>7</td>\n",
              "    </tr>\n",
              "    <tr>\n",
              "      <th>M. Chinnaswamy Stadium</th>\n",
              "      <td>7</td>\n",
              "    </tr>\n",
              "    <tr>\n",
              "      <th>Bloemfontein</th>\n",
              "      <th>OUTsurance Oval</th>\n",
              "      <td>2</td>\n",
              "    </tr>\n",
              "    <tr>\n",
              "      <th>Cape Town</th>\n",
              "      <th>Newlands</th>\n",
              "      <td>7</td>\n",
              "    </tr>\n",
              "    <tr>\n",
              "      <th>Centurion</th>\n",
              "      <th>SuperSport Park</th>\n",
              "      <td>12</td>\n",
              "    </tr>\n",
              "    <tr>\n",
              "      <th rowspan=\"2\" valign=\"top\">Chandigarh</th>\n",
              "      <th>Punjab Cricket Association IS Bindra Stadium, Mohali</th>\n",
              "      <td>11</td>\n",
              "    </tr>\n",
              "    <tr>\n",
              "      <th>Punjab Cricket Association Stadium, Mohali</th>\n",
              "      <td>35</td>\n",
              "    </tr>\n",
              "    <tr>\n",
              "      <th rowspan=\"2\" valign=\"top\">Chennai</th>\n",
              "      <th>M. A. Chidambaram Stadium</th>\n",
              "      <td>8</td>\n",
              "    </tr>\n",
              "    <tr>\n",
              "      <th>MA Chidambaram Stadium, Chepauk</th>\n",
              "      <td>49</td>\n",
              "    </tr>\n",
              "    <tr>\n",
              "      <th>Cuttack</th>\n",
              "      <th>Barabati Stadium</th>\n",
              "      <td>7</td>\n",
              "    </tr>\n",
              "    <tr>\n",
              "      <th rowspan=\"2\" valign=\"top\">Delhi</th>\n",
              "      <th>Feroz Shah Kotla</th>\n",
              "      <td>67</td>\n",
              "    </tr>\n",
              "    <tr>\n",
              "      <th>Feroz Shah Kotla Ground</th>\n",
              "      <td>7</td>\n",
              "    </tr>\n",
              "    <tr>\n",
              "      <th>Dharamsala</th>\n",
              "      <th>Himachal Pradesh Cricket Association Stadium</th>\n",
              "      <td>9</td>\n",
              "    </tr>\n",
              "    <tr>\n",
              "      <th>Dubai</th>\n",
              "      <th>Dubai International Cricket Stadium</th>\n",
              "      <td>7</td>\n",
              "    </tr>\n",
              "    <tr>\n",
              "      <th>Durban</th>\n",
              "      <th>Kingsmead</th>\n",
              "      <td>15</td>\n",
              "    </tr>\n",
              "    <tr>\n",
              "      <th>East London</th>\n",
              "      <th>Buffalo Park</th>\n",
              "      <td>3</td>\n",
              "    </tr>\n",
              "    <tr>\n",
              "      <th rowspan=\"2\" valign=\"top\">Hyderabad</th>\n",
              "      <th>Rajiv Gandhi International Stadium, Uppal</th>\n",
              "      <td>56</td>\n",
              "    </tr>\n",
              "    <tr>\n",
              "      <th>Rajiv Gandhi Intl. Cricket Stadium</th>\n",
              "      <td>8</td>\n",
              "    </tr>\n",
              "    <tr>\n",
              "      <th>Indore</th>\n",
              "      <th>Holkar Cricket Stadium</th>\n",
              "      <td>9</td>\n",
              "    </tr>\n",
              "    <tr>\n",
              "      <th>Jaipur</th>\n",
              "      <th>Sawai Mansingh Stadium</th>\n",
              "      <td>47</td>\n",
              "    </tr>\n",
              "    <tr>\n",
              "      <th>Johannesburg</th>\n",
              "      <th>New Wanderers Stadium</th>\n",
              "      <td>8</td>\n",
              "    </tr>\n",
              "    <tr>\n",
              "      <th>Kanpur</th>\n",
              "      <th>Green Park</th>\n",
              "      <td>4</td>\n",
              "    </tr>\n",
              "    <tr>\n",
              "      <th>Kimberley</th>\n",
              "      <th>De Beers Diamond Oval</th>\n",
              "      <td>3</td>\n",
              "    </tr>\n",
              "    <tr>\n",
              "      <th>Kochi</th>\n",
              "      <th>Nehru Stadium</th>\n",
              "      <td>5</td>\n",
              "    </tr>\n",
              "    <tr>\n",
              "      <th>Kolkata</th>\n",
              "      <th>Eden Gardens</th>\n",
              "      <td>77</td>\n",
              "    </tr>\n",
              "    <tr>\n",
              "      <th rowspan=\"2\" valign=\"top\">Mohali</th>\n",
              "      <th>IS Bindra Stadium</th>\n",
              "      <td>7</td>\n",
              "    </tr>\n",
              "    <tr>\n",
              "      <th>Punjab Cricket Association IS Bindra Stadium, Mohali</th>\n",
              "      <td>3</td>\n",
              "    </tr>\n",
              "    <tr>\n",
              "      <th rowspan=\"3\" valign=\"top\">Mumbai</th>\n",
              "      <th>Brabourne Stadium</th>\n",
              "      <td>11</td>\n",
              "    </tr>\n",
              "    <tr>\n",
              "      <th>Dr DY Patil Sports Academy</th>\n",
              "      <td>17</td>\n",
              "    </tr>\n",
              "    <tr>\n",
              "      <th>Wankhede Stadium</th>\n",
              "      <td>73</td>\n",
              "    </tr>\n",
              "    <tr>\n",
              "      <th>Nagpur</th>\n",
              "      <th>Vidarbha Cricket Association Stadium, Jamtha</th>\n",
              "      <td>3</td>\n",
              "    </tr>\n",
              "    <tr>\n",
              "      <th>Port Elizabeth</th>\n",
              "      <th>St George's Park</th>\n",
              "      <td>7</td>\n",
              "    </tr>\n",
              "    <tr>\n",
              "      <th rowspan=\"2\" valign=\"top\">Pune</th>\n",
              "      <th>Maharashtra Cricket Association Stadium</th>\n",
              "      <td>21</td>\n",
              "    </tr>\n",
              "    <tr>\n",
              "      <th>Subrata Roy Sahara Stadium</th>\n",
              "      <td>17</td>\n",
              "    </tr>\n",
              "    <tr>\n",
              "      <th>Raipur</th>\n",
              "      <th>Shaheed Veer Narayan Singh International Stadium</th>\n",
              "      <td>6</td>\n",
              "    </tr>\n",
              "    <tr>\n",
              "      <th>Rajkot</th>\n",
              "      <th>Saurashtra Cricket Association Stadium</th>\n",
              "      <td>10</td>\n",
              "    </tr>\n",
              "    <tr>\n",
              "      <th>Ranchi</th>\n",
              "      <th>JSCA International Stadium Complex</th>\n",
              "      <td>7</td>\n",
              "    </tr>\n",
              "    <tr>\n",
              "      <th>Sharjah</th>\n",
              "      <th>Sharjah Cricket Stadium</th>\n",
              "      <td>6</td>\n",
              "    </tr>\n",
              "    <tr>\n",
              "      <th rowspan=\"2\" valign=\"top\">Visakhapatnam</th>\n",
              "      <th>ACA-VDCA Stadium</th>\n",
              "      <td>2</td>\n",
              "    </tr>\n",
              "    <tr>\n",
              "      <th>Dr. Y.S. Rajasekhara Reddy ACA-VDCA Cricket Stadium</th>\n",
              "      <td>11</td>\n",
              "    </tr>\n",
              "  </tbody>\n",
              "</table>\n",
              "</div>"
            ],
            "text/plain": [
              "                                                                   season\n",
              "city           venue                                                     \n",
              "Abu Dhabi      Sheikh Zayed Stadium                                     7\n",
              "Ahmedabad      Sardar Patel Stadium, Motera                            12\n",
              "Bangalore      M Chinnaswamy Stadium                                   66\n",
              "Bengaluru      M Chinnaswamy Stadium                                    7\n",
              "               M. Chinnaswamy Stadium                                   7\n",
              "Bloemfontein   OUTsurance Oval                                          2\n",
              "Cape Town      Newlands                                                 7\n",
              "Centurion      SuperSport Park                                         12\n",
              "Chandigarh     Punjab Cricket Association IS Bindra Stadium, M...      11\n",
              "               Punjab Cricket Association Stadium, Mohali              35\n",
              "Chennai        M. A. Chidambaram Stadium                                8\n",
              "               MA Chidambaram Stadium, Chepauk                         49\n",
              "Cuttack        Barabati Stadium                                         7\n",
              "Delhi          Feroz Shah Kotla                                        67\n",
              "               Feroz Shah Kotla Ground                                  7\n",
              "Dharamsala     Himachal Pradesh Cricket Association Stadium             9\n",
              "Dubai          Dubai International Cricket Stadium                      7\n",
              "Durban         Kingsmead                                               15\n",
              "East London    Buffalo Park                                             3\n",
              "Hyderabad      Rajiv Gandhi International Stadium, Uppal               56\n",
              "               Rajiv Gandhi Intl. Cricket Stadium                       8\n",
              "Indore         Holkar Cricket Stadium                                   9\n",
              "Jaipur         Sawai Mansingh Stadium                                  47\n",
              "Johannesburg   New Wanderers Stadium                                    8\n",
              "Kanpur         Green Park                                               4\n",
              "Kimberley      De Beers Diamond Oval                                    3\n",
              "Kochi          Nehru Stadium                                            5\n",
              "Kolkata        Eden Gardens                                            77\n",
              "Mohali         IS Bindra Stadium                                        7\n",
              "               Punjab Cricket Association IS Bindra Stadium, M...       3\n",
              "Mumbai         Brabourne Stadium                                       11\n",
              "               Dr DY Patil Sports Academy                              17\n",
              "               Wankhede Stadium                                        73\n",
              "Nagpur         Vidarbha Cricket Association Stadium, Jamtha             3\n",
              "Port Elizabeth St George's Park                                         7\n",
              "Pune           Maharashtra Cricket Association Stadium                 21\n",
              "               Subrata Roy Sahara Stadium                              17\n",
              "Raipur         Shaheed Veer Narayan Singh International Stadium         6\n",
              "Rajkot         Saurashtra Cricket Association Stadium                  10\n",
              "Ranchi         JSCA International Stadium Complex                       7\n",
              "Sharjah        Sharjah Cricket Stadium                                  6\n",
              "Visakhapatnam  ACA-VDCA Stadium                                         2\n",
              "               Dr. Y.S. Rajasekhara Reddy ACA-VDCA Cricket Sta...      11"
            ]
          },
          "execution_count": 68,
          "metadata": {},
          "output_type": "execute_result"
        }
      ],
      "source": [
        "#city has 33 distinct values while we have 35 venues.\n",
        "#Let's find out venues grouped by cities to see which cities have multiple venues\n",
        "\n",
        "city_venue = matches.groupby(['city','venue']).count()['season']\n",
        "city_venue_df = pd.DataFrame(city_venue)\n",
        "city_venue_df"
      ]
    },
    {
      "cell_type": "markdown",
      "metadata": {
        "id": "YgnR4cYIStLH"
      },
      "source": [
        "### Observations\n",
        "- Bengaluru and Bangalore both are in the data when they are same. So we need to keep one of them\n",
        "- Chandigarh and Mohali are same and there is just one stadium Punjab Cricket Association IS Bindra Stadium, Mohali whose value has not been entered correctly. We need to have either Chandigarh or Mohali as well as correct name of the stadium there\n",
        "- Mumbai has 3 stadiums/venues used for IPL\n",
        "- Pune has 2 venues for IPL<br>\n",
        "### Visual representation of number of venues in each city ."
      ]
    },
    {
      "cell_type": "code",
      "execution_count": 69,
      "metadata": {
        "colab": {
          "base_uri": "https://localhost:8080/",
          "height": 380
        },
        "id": "F9Y8w8QSStLI",
        "outputId": "39b07b4e-9311-43e9-d1e3-d55534afcbe4"
      },
      "outputs": [
        {
          "data": {
            "text/plain": [
              "(array([  0.,  20.,  40.,  60.,  80., 100., 120.]),\n",
              " [Text(0, 0, ''),\n",
              "  Text(0, 0, ''),\n",
              "  Text(0, 0, ''),\n",
              "  Text(0, 0, ''),\n",
              "  Text(0, 0, ''),\n",
              "  Text(0, 0, ''),\n",
              "  Text(0, 0, '')])"
            ]
          },
          "execution_count": 69,
          "metadata": {},
          "output_type": "execute_result"
        },
        {
          "data": {
            "image/png": "[encoded data removed]",
            "text/plain": [
              "<Figure size 1440x504 with 1 Axes>"
            ]
          },
          "metadata": {
            "needs_background": "light"
          },
          "output_type": "display_data"
        }
      ],
      "source": [
        "#Plotting venues along with cities \n",
        "v = pd.crosstab(matches['city'],matches['venue'])\n",
        "\n",
        "\n",
        "#Adding a column by summing each columns\n",
        "v['count'] = v.sum(axis = 'columns')\n",
        "#We will just keep last column = 'count'\n",
        "b = v['count']\n",
        "\n",
        "#Plotting\n",
        "plt.figure(figsize = (20,7))\n",
        "b.plot(kind = 'bar')\n",
        "plt.title(\"Number of stadiums in different cities\", fontsize = 25, fontweight = 'bold')\n",
        "plt.xlabel(\"City\", size = 30)\n",
        "plt.ylabel(\"Frequency\", size = 30)\n",
        "plt.xticks(size = 20)\n",
        "plt.yticks(size = 20)"
      ]
    },
    {
      "cell_type": "markdown",
      "metadata": {
        "id": "oMmrrhDfStLI"
      },
      "source": [
        "### Exploratory Data Analysis:<br>\n",
        "### Number of matches played in each season "
      ]
    },
    {
      "cell_type": "code",
      "execution_count": 70,
      "metadata": {
        "colab": {
          "base_uri": "https://localhost:8080/",
          "height": 452
        },
        "id": "zWS7QVQPStLJ",
        "outputId": "33bf7304-9ff2-4e5f-ee68-b0be0eff95d7"
      },
      "outputs": [
        {
          "name": "stderr",
          "output_type": "stream",
          "text": [
            "c:\\Python\\Python39\\lib\\site-packages\\seaborn\\_decorators.py:36: FutureWarning: Pass the following variable as a keyword arg: x. From version 0.12, the only valid positional argument will be `data`, and passing other arguments without an explicit keyword will result in an error or misinterpretation.\n",
            "  warnings.warn(\n"
          ]
        },
        {
          "data": {
            "text/plain": [
              "(array([ 0., 10., 20., 30., 40., 50., 60., 70., 80.]),\n",
              " [Text(0, 0, ''),\n",
              "  Text(0, 0, ''),\n",
              "  Text(0, 0, ''),\n",
              "  Text(0, 0, ''),\n",
              "  Text(0, 0, ''),\n",
              "  Text(0, 0, ''),\n",
              "  Text(0, 0, ''),\n",
              "  Text(0, 0, ''),\n",
              "  Text(0, 0, '')])"
            ]
          },
          "execution_count": 70,
          "metadata": {},
          "output_type": "execute_result"
        },
        {
          "data": {
            "image/png": "[encoded data removed]",
            "text/plain": [
              "<Figure size 1440x360 with 1 Axes>"
            ]
          },
          "metadata": {
            "needs_background": "light"
          },
          "output_type": "display_data"
        }
      ],
      "source": [
        "plt.figure(figsize=(20,5))\n",
        "sns.countplot('season', data = matches)\n",
        "plt.title(\"Number of matches played each season\",fontsize=18,fontweight=\"bold\")\n",
        "plt.ylabel(\"Count\", size = 20)\n",
        "plt.xlabel(\"Season\", size = 20)\n",
        "plt.xticks(size = 10)\n",
        "plt.yticks(size = 10)"
      ]
    },
    {
      "cell_type": "markdown",
      "metadata": {
        "id": "uVvkVHBMStLJ"
      },
      "source": [
        "- 2011-2013 have more matches being played than other seasons\n",
        "\n",
        "- All other seasons have approximately 58-60 matches while 2011-2013 have more than 70 matches."
      ]
    },
    {
      "cell_type": "markdown",
      "metadata": {
        "id": "IC1LA8QMStLJ"
      },
      "source": [
        "### How many teams played in each season?"
      ]
    },
    {
      "cell_type": "code",
      "execution_count": 71,
      "metadata": {
        "colab": {
          "base_uri": "https://localhost:8080/",
          "height": 431
        },
        "id": "opdAtd5BStLJ",
        "outputId": "b00d9b79-56fc-409c-aa58-dfaa205f6c1c"
      },
      "outputs": [
        {
          "data": {
            "text/plain": [
              "(array([ 0.,  2.,  4.,  6.,  8., 10., 12.]),\n",
              " [Text(0, 0, ''),\n",
              "  Text(0, 0, ''),\n",
              "  Text(0, 0, ''),\n",
              "  Text(0, 0, ''),\n",
              "  Text(0, 0, ''),\n",
              "  Text(0, 0, ''),\n",
              "  Text(0, 0, '')])"
            ]
          },
          "execution_count": 71,
          "metadata": {},
          "output_type": "execute_result"
        },
        {
          "data": {
            "image/png": "[encoded data removed]",
            "text/plain": [
              "<Figure size 1080x360 with 1 Axes>"
            ]
          },
          "metadata": {
            "needs_background": "light"
          },
          "output_type": "display_data"
        }
      ],
      "source": [
        "matches.groupby('season')['team1'].nunique().plot(kind = 'bar' , figsize=(15,5) ,color='#003366')\n",
        "plt.title(\"Number of teams participated each season \",fontsize=18,fontweight=\"bold\")\n",
        "plt.ylabel(\"Count of teams\", size = 25)\n",
        "plt.xlabel(\"Season\", size = 25)\n",
        "plt.xticks(size = 15)\n",
        "plt.yticks(size = 15)\n"
      ]
    },
    {
      "cell_type": "markdown",
      "metadata": {
        "id": "Vh9EOIh2StLK"
      },
      "source": [
        "- 10 teams played in 2011 and 9 teams each in 2012 and 2013\n",
        "\n",
        "- This explains why 2011-2013 have seen more matches being played than other seasons"
      ]
    },
    {
      "cell_type": "markdown",
      "metadata": {
        "id": "5jWxZF_DStLK"
      },
      "source": [
        "### Venue which has hosted most number of IPL matches ."
      ]
    },
    {
      "cell_type": "code",
      "execution_count": 72,
      "metadata": {
        "colab": {
          "base_uri": "https://localhost:8080/",
          "height": 553
        },
        "id": "BWVy_KhwStLK",
        "outputId": "9923bd1c-3f22-4b03-bd47-8da053f4afa0"
      },
      "outputs": [
        {
          "data": {
            "text/plain": [
              "Text(0.5, 0, 'Frequency')"
            ]
          },
          "execution_count": 72,
          "metadata": {},
          "output_type": "execute_result"
        },
        {
          "data": {
            "image/png": "[encoded data removed]",
            "text/plain": [
              "<Figure size 864x576 with 1 Axes>"
            ]
          },
          "metadata": {
            "needs_background": "light"
          },
          "output_type": "display_data"
        }
      ],
      "source": [
        "matches.venue.value_counts().sort_values(ascending = True).tail(10).plot(kind = 'barh',figsize=(12,8), fontsize=15, color='#FF6666')\n",
        "plt.title(\"Venue which has hosted most number of IPL matches\",fontsize=18,fontweight=\"bold\")\n",
        "plt.ylabel(\"Venue\", size = 25)\n",
        "plt.xlabel(\"Frequency\", size = 25)"
      ]
    },
    {
      "cell_type": "markdown",
      "metadata": {
        "id": "bOtNuyHDStLK"
      },
      "source": [
        "- M Chinnaswamy Stadium in Bengaluru has hosted the highest number of matches so far in IPL followed by Eden Gardens in Kolkata\n"
      ]
    },
    {
      "cell_type": "markdown",
      "metadata": {
        "id": "JdL25ioXStLL"
      },
      "source": [
        "### Which team has maximum wins in IPL so far?"
      ]
    },
    {
      "cell_type": "code",
      "execution_count": 73,
      "metadata": {
        "id": "FtZy9sezStLL"
      },
      "outputs": [],
      "source": [
        "#creating a dataframe with season and winner columns\n",
        "winning_teams = matches[['season','winner']]\n"
      ]
    },
    {
      "cell_type": "code",
      "execution_count": 74,
      "metadata": {
        "id": "lfK8NaoGStLL"
      },
      "outputs": [],
      "source": [
        "#dictionaries to get winners to each season\n",
        "winners_team = {}\n",
        "for i in sorted(winning_teams.season.unique()):\n",
        "    winners_team[i] = winning_teams[winning_teams.season == i]['winner'].tail(1).values[0]\n",
        "    \n",
        "winners_of_IPL = pd.Series(winners_team)\n",
        "winners_of_IPL = pd.DataFrame(winners_of_IPL, columns=['team'])"
      ]
    },
    {
      "cell_type": "code",
      "execution_count": 75,
      "metadata": {
        "colab": {
          "base_uri": "https://localhost:8080/",
          "height": 390
        },
        "id": "-XN-eJGVStLL",
        "outputId": "edbd6646-68a1-4cf1-8b58-6a16b42a3e0e"
      },
      "outputs": [
        {
          "data": {
            "text/plain": [
              "(array([0, 1, 2, 3, 4, 5]),\n",
              " [Text(0, 0, 'Mumbai Indians'),\n",
              "  Text(0, 1, 'Chennai Super Kings'),\n",
              "  Text(0, 2, 'Kolkata Knight Riders'),\n",
              "  Text(0, 3, 'Rajasthan Royals'),\n",
              "  Text(0, 4, 'Deccan Chargers'),\n",
              "  Text(0, 5, 'Sunrisers Hyderabad')])"
            ]
          },
          "execution_count": 75,
          "metadata": {},
          "output_type": "execute_result"
        },
        {
          "data": {
            "image/png": "[encoded data removed]",
            "text/plain": [
              "<Figure size 1080x360 with 1 Axes>"
            ]
          },
          "metadata": {
            "needs_background": "light"
          },
          "output_type": "display_data"
        }
      ],
      "source": [
        "winners_of_IPL['team'].value_counts().plot(kind = 'barh', figsize = (15,5), color = '#FF66CC')\n",
        "plt.title(\"Winners of IPL across 11 seasons\",fontsize=18,fontweight=\"bold\")\n",
        "plt.ylabel(\"Teams\", size = 25)\n",
        "plt.xlabel(\"Frequency\", size = 25)\n",
        "plt.xticks(size = 15)\n",
        "plt.yticks(size = 15)"
      ]
    },
    {
      "cell_type": "markdown",
      "metadata": {
        "id": "-NcMdGK3StLL"
      },
      "source": [
        "- MI and CSK have both won 3 times each followed by KKR who has won 2 times.\n",
        "- Hyderabad team has also won 2 matches under 2 franchise name - Deccan Chargers and Sunrisers Hyderabad"
      ]
    },
    {
      "cell_type": "markdown",
      "metadata": {
        "id": "w5i5gw9iStLM"
      },
      "source": [
        "### Does teams choosed to bat or field first, after winning toss?"
      ]
    },
    {
      "cell_type": "code",
      "execution_count": 76,
      "metadata": {
        "colab": {
          "base_uri": "https://localhost:8080/",
          "height": 444
        },
        "id": "NpYDtd8QStLM",
        "outputId": "601bcda8-354a-4659-b80b-e4395c3729c9"
      },
      "outputs": [
        {
          "data": {
            "text/plain": [
              "Text(0.5, 1.0, 'Decision taken by captains after winning tosses')"
            ]
          },
          "execution_count": 76,
          "metadata": {},
          "output_type": "execute_result"
        },
        {
          "data": {
            "image/png": "[encoded data removed]",
            "text/plain": [
              "<Figure size 720x504 with 1 Axes>"
            ]
          },
          "metadata": {},
          "output_type": "display_data"
        }
      ],
      "source": [
        "matches['toss_decision'].value_counts().plot(kind='pie', fontsize=14, autopct='%3.1f%%', \n",
        "                                               figsize=(10,7), shadow=True, startangle=135, legend=True, cmap='gist_gray')\n",
        "\n",
        "plt.ylabel('Toss Decision')\n",
        "plt.title('Decision taken by captains after winning tosses')"
      ]
    },
    {
      "cell_type": "markdown",
      "metadata": {
        "id": "waqB3wjvStLM"
      },
      "source": [
        "- Close to 60% times teams who have won tosses have decided to chase down"
      ]
    },
    {
      "cell_type": "markdown",
      "metadata": {
        "id": "Z9r4hgCPStLM"
      },
      "source": [
        "### How toss decision affects match results?"
      ]
    },
    {
      "cell_type": "code",
      "execution_count": 77,
      "metadata": {
        "colab": {
          "base_uri": "https://localhost:8080/",
          "height": 436
        },
        "id": "ammPZ7OLStLN",
        "outputId": "7269d782-8222-47a4-fe28-dc3d7d900bae"
      },
      "outputs": [
        {
          "name": "stderr",
          "output_type": "stream",
          "text": [
            "c:\\Python\\Python39\\lib\\site-packages\\seaborn\\_decorators.py:36: FutureWarning: Pass the following variable as a keyword arg: x. From version 0.12, the only valid positional argument will be `data`, and passing other arguments without an explicit keyword will result in an error or misinterpretation.\n",
            "  warnings.warn(\n"
          ]
        },
        {
          "data": {
            "text/plain": [
              "Text(0, 0.5, 'Frequency')"
            ]
          },
          "execution_count": 77,
          "metadata": {},
          "output_type": "execute_result"
        },
        {
          "data": {
            "image/png": "[encoded data removed]",
            "text/plain": [
              "<Figure size 1440x360 with 1 Axes>"
            ]
          },
          "metadata": {
            "needs_background": "light"
          },
          "output_type": "display_data"
        }
      ],
      "source": [
        "matches['toss_win_game_win'] = np.where((matches.toss_winner == matches.winner),'Yes','No')\n",
        "plt.figure(figsize = (20,5) )\n",
        "sns.countplot('toss_win_game_win', data=matches, hue = 'toss_decision')\n",
        "plt.title(\"How Toss Decision affects match result\", fontsize=18,fontweight=\"bold\")\n",
        "plt.xticks(size = 15 )\n",
        "plt.yticks(size = 15)\n",
        "plt.xlabel(\"Winning Toss and winning match\", fontsize = 15)\n",
        "plt.ylabel(\"Frequency\", fontsize = 15)"
      ]
    },
    {
      "cell_type": "markdown",
      "metadata": {
        "id": "-MU-50z0StLN"
      },
      "source": [
        "- Teams winning tosses and electng to field first have won most number of times."
      ]
    },
    {
      "cell_type": "markdown",
      "metadata": {
        "id": "0AsLKI6rStLN"
      },
      "source": [
        "### Individual teams decision to choose bat or field after winning toss."
      ]
    },
    {
      "cell_type": "code",
      "execution_count": 78,
      "metadata": {
        "colab": {
          "base_uri": "https://localhost:8080/",
          "height": 631
        },
        "id": "dxcXTyiZStLN",
        "outputId": "b7253b58-63ac-4c61-b930-e9eb81804f63"
      },
      "outputs": [
        {
          "name": "stderr",
          "output_type": "stream",
          "text": [
            "c:\\Python\\Python39\\lib\\site-packages\\seaborn\\_decorators.py:36: FutureWarning: Pass the following variable as a keyword arg: x. From version 0.12, the only valid positional argument will be `data`, and passing other arguments without an explicit keyword will result in an error or misinterpretation.\n",
            "  warnings.warn(\n"
          ]
        },
        {
          "data": {
            "text/plain": [
              "Text(0, 0.5, 'Count')"
            ]
          },
          "execution_count": 78,
          "metadata": {},
          "output_type": "execute_result"
        },
        {
          "data": {
            "image/png": "[encoded data removed]",
            "text/plain": [
              "<Figure size 1800x720 with 1 Axes>"
            ]
          },
          "metadata": {
            "needs_background": "light"
          },
          "output_type": "display_data"
        }
      ],
      "source": [
        "plt.figure(figsize = (25,10))\n",
        "sns.countplot('toss_winner', data = matches, hue = 'toss_decision')\n",
        "plt.title(\"Teams decision to bat first or second after winning toss\", size = 30, fontweight = 'bold')\n",
        "plt.xticks(size = 10)\n",
        "plt.yticks(size = 15)\n",
        "plt.xlabel(\"Toss Winner\", size = 35)\n",
        "plt.ylabel(\"Count\", size = 35)"
      ]
    },
    {
      "cell_type": "markdown",
      "metadata": {
        "id": "Y2ZudAulStLO"
      },
      "source": [
        "- Most teams field first after winning toss except for Chennai Super Kings who has mostly opted to bat first. Deccan Chargers and Pune Warriors also show the same trend."
      ]
    },
    {
      "cell_type": "markdown",
      "metadata": {
        "id": "O6fh5IQZStLO"
      },
      "source": [
        "### Which player's performance has mostly led team's win?"
      ]
    },
    {
      "cell_type": "code",
      "execution_count": 79,
      "metadata": {
        "colab": {
          "base_uri": "https://localhost:8080/",
          "height": 637
        },
        "id": "UwDGysdjStLO",
        "outputId": "24adcf0c-cabd-4639-c011-f84ea380742c"
      },
      "outputs": [
        {
          "data": {
            "text/plain": [
              "Text(0.5, 0, 'Players')"
            ]
          },
          "execution_count": 79,
          "metadata": {},
          "output_type": "execute_result"
        },
        {
          "data": {
            "image/png": "[encoded data removed]",
            "text/plain": [
              "<Figure size 864x576 with 1 Axes>"
            ]
          },
          "metadata": {
            "needs_background": "light"
          },
          "output_type": "display_data"
        }
      ],
      "source": [
        "MoM= matches['player_of_match'].value_counts()\n",
        "MoM.head(10).plot(kind = 'bar',figsize=(12,8), fontsize=15, color='#b30059')\n",
        "plt.title(\"Top 10 players with most MoM awards\",fontsize=18,fontweight=\"bold\")\n",
        "plt.ylabel(\"Frequency\", size = 25)\n",
        "plt.xlabel(\"Players\", size = 25)"
      ]
    },
    {
      "cell_type": "markdown",
      "metadata": {
        "id": "10m31XLqStLO"
      },
      "source": [
        "- Chris Gayle has so far won the most number of MoM awards followed by AB de Villiers.\n",
        "- Also, all top 10 are batsmen which kind of hints that in IPL batsmen have mostly dictated the matches"
      ]
    },
    {
      "cell_type": "markdown",
      "metadata": {
        "id": "bwkwn0bRStLO"
      },
      "source": [
        "### How winning matches by fielding first varies across venues?"
      ]
    },
    {
      "cell_type": "code",
      "execution_count": 80,
      "metadata": {
        "colab": {
          "base_uri": "https://localhost:8080/",
          "height": 1000
        },
        "id": "uxZgDXyoStLO",
        "outputId": "021600a6-a245-41d7-b373-a3e5e761b577"
      },
      "outputs": [
        {
          "name": "stderr",
          "output_type": "stream",
          "text": [
            "C:\\Users\\Zigma\\AppData\\Local\\Temp\\ipykernel_12768\\3886350824.py:2: SettingWithCopyWarning: \n",
            "A value is trying to be set on a copy of a slice from a DataFrame.\n",
            "Try using .loc[row_indexer,col_indexer] = value instead\n",
            "\n",
            "See the caveats in the documentation: https://pandas.pydata.org/pandas-docs/stable/user_guide/indexing.html#returning-a-view-versus-a-copy\n",
            "  new_matches['win_batting_first'] = np.where((new_matches.win_by_runs > 0), 'Yes', 'No')\n"
          ]
        },
        {
          "data": {
            "text/plain": [
              "Text(0, 0.5, 'Venue')"
            ]
          },
          "execution_count": 80,
          "metadata": {},
          "output_type": "execute_result"
        },
        {
          "data": {
            "image/png": "[encoded data removed]",
            "text/plain": [
              "<Figure size 1440x1800 with 1 Axes>"
            ]
          },
          "metadata": {
            "needs_background": "light"
          },
          "output_type": "display_data"
        }
      ],
      "source": [
        "new_matches = matches[matches['result'] == 'normal']   #taking all those matches where result is normal and creating a new dataframe\n",
        "new_matches['win_batting_first'] = np.where((new_matches.win_by_runs > 0), 'Yes', 'No')\n",
        "new_matches.groupby('venue')['win_batting_first'].value_counts().unstack().plot(kind = 'barh', stacked = True,\n",
        "                                                                               figsize=(20,25))\n",
        "plt.title(\"How winning matches by fielding first varies across venues?\", fontsize=18,fontweight=\"bold\")\n",
        "plt.xticks(size = 15)\n",
        "plt.yticks(size = 15)\n",
        "plt.xlabel(\"Frequency\", fontsize = 25)\n",
        "plt.ylabel(\"Venue\", fontsize = 25)"
      ]
    },
    {
      "cell_type": "markdown",
      "metadata": {
        "id": "3DwyOheXStLP"
      },
      "source": [
        "- Batting second has been more rewarding in almost all the venues"
      ]
    },
    {
      "cell_type": "markdown",
      "metadata": {
        "id": "cMhyOtkhStLP"
      },
      "source": [
        "### Is batting second advantageous across all years?"
      ]
    },
    {
      "cell_type": "code",
      "execution_count": 81,
      "metadata": {
        "colab": {
          "base_uri": "https://localhost:8080/",
          "height": 446
        },
        "id": "fMdBV0LvStLP",
        "outputId": "13d3f903-16c9-4b60-fe11-387b07008a07"
      },
      "outputs": [
        {
          "name": "stderr",
          "output_type": "stream",
          "text": [
            "c:\\Python\\Python39\\lib\\site-packages\\seaborn\\_decorators.py:36: FutureWarning: Pass the following variable as a keyword arg: x. From version 0.12, the only valid positional argument will be `data`, and passing other arguments without an explicit keyword will result in an error or misinterpretation.\n",
            "  warnings.warn(\n"
          ]
        },
        {
          "data": {
            "text/plain": [
              "Text(0, 0.5, 'Count')"
            ]
          },
          "execution_count": 81,
          "metadata": {},
          "output_type": "execute_result"
        },
        {
          "data": {
            "image/png": "[encoded data removed]",
            "text/plain": [
              "<Figure size 1440x360 with 1 Axes>"
            ]
          },
          "metadata": {
            "needs_background": "light"
          },
          "output_type": "display_data"
        }
      ],
      "source": [
        "plt.figure(figsize = (20,5))\n",
        "sns.countplot('season', data = new_matches, hue = 'win_batting_first')\n",
        "plt.title(\"Is batting second advantageous across all years\", fontsize=20,fontweight=\"bold\")\n",
        "plt.xticks(size = 15)\n",
        "plt.yticks(size = 15)\n",
        "plt.xlabel(\"Season\", fontsize = 25)\n",
        "plt.ylabel(\"Count\", fontsize = 25)"
      ]
    },
    {
      "cell_type": "markdown",
      "metadata": {
        "id": "YjjSYRcJStLP"
      },
      "source": [
        "- Exceptt for 2010 and 2015, in all other years it can be seen that teams batting second have won more matches"
      ]
    },
    {
      "cell_type": "markdown",
      "metadata": {
        "id": "rmE3ULeHStLQ"
      },
      "source": [
        "### Teams total scoring runs, over the years?"
      ]
    },
    {
      "cell_type": "code",
      "execution_count": 82,
      "metadata": {
        "id": "p3TCyhaOStLQ"
      },
      "outputs": [
        {
          "data": {
            "text/plain": [
              "(array([15000., 16000., 17000., 18000., 19000., 20000., 21000., 22000.]),\n",
              " [Text(0, 0, ''),\n",
              "  Text(0, 0, ''),\n",
              "  Text(0, 0, ''),\n",
              "  Text(0, 0, ''),\n",
              "  Text(0, 0, ''),\n",
              "  Text(0, 0, ''),\n",
              "  Text(0, 0, ''),\n",
              "  Text(0, 0, '')])"
            ]
          },
          "execution_count": 82,
          "metadata": {},
          "output_type": "execute_result"
        },
        {
          "data": {
            "image/png": "[encoded data removed]",
            "text/plain": [
              "<Figure size 1080x360 with 1 Axes>"
            ]
          },
          "metadata": {
            "needs_background": "light"
          },
          "output_type": "display_data"
        }
      ],
      "source": [
        "merge.groupby('season')['batsman_runs'].sum().plot(kind = 'line', linewidth = 3, figsize =(15,5),\n",
        "                                                                                             color = 'red')\n",
        "plt.title(\"Runs over the years\",fontsize= 25, fontweight = 'bold')\n",
        "plt.xlabel(\"Season\", size = 25)\n",
        "plt.ylabel(\"Total Runs Scored\", size = 25)\n",
        "plt.xticks(size = 12)\n",
        "plt.yticks(size = 12)"
      ]
    },
    {
      "cell_type": "markdown",
      "metadata": {
        "id": "5vfa3zxkStLQ"
      },
      "source": [
        "- Run scoring has gone up from the start of the IPL in 2008."
      ]
    },
    {
      "cell_type": "markdown",
      "metadata": {
        "id": "PIRuJCkSStLQ"
      },
      "source": [
        "### Top Run Getters of IPL."
      ]
    },
    {
      "cell_type": "code",
      "execution_count": 92,
      "metadata": {
        "colab": {
          "base_uri": "https://localhost:8080/",
          "height": 473
        },
        "id": "ic737jszStLQ",
        "outputId": "b049b46f-6799-4885-8322-eb90260af8be"
      },
      "outputs": [
        {
          "data": {
            "text/plain": [
              "(array([   0., 1000., 2000., 3000., 4000., 5000., 6000.]),\n",
              " [Text(0, 0, ''),\n",
              "  Text(0, 0, ''),\n",
              "  Text(0, 0, ''),\n",
              "  Text(0, 0, ''),\n",
              "  Text(0, 0, ''),\n",
              "  Text(0, 0, ''),\n",
              "  Text(0, 0, '')])"
            ]
          },
          "execution_count": 92,
          "metadata": {},
          "output_type": "execute_result"
        },
        {
          "data": {
            "image/png": "[encoded data removed]",
            "text/plain": [
              "<Figure size 1440x360 with 1 Axes>"
            ]
          },
          "metadata": {
            "needs_background": "light"
          },
          "output_type": "display_data"
        }
      ],
      "source": [
        "#let's plot the top 10 run getter so far in IPL\n",
        "merge.groupby('batsman')['batsman_runs'].sum().sort_values(ascending = False).head(10).plot(kind = 'bar', color = '#810955',\n",
        "                                                                                            figsize = (20,5))\n",
        "plt.title(\"Top Run Getters of IPL\", fontsize = 20, fontweight = 'bold')\n",
        "plt.xlabel(\"Batsmen\", size = 25)\n",
        "plt.ylabel(\"Total Runs Scored\", size = 25)\n",
        "plt.xticks(size = 12)\n",
        "plt.yticks(size = 12)"
      ]
    },
    {
      "cell_type": "markdown",
      "metadata": {
        "id": "5Xbhix8zStLR"
      },
      "source": [
        "- Except for MS Dhoni, all other top run getters are either openers or come in 3rd or 4th positions to bat\n",
        "- Suresh Raina is the highest run getter in IPL."
      ]
    },
    {
      "cell_type": "markdown",
      "metadata": {
        "id": "UTmEqgfpStLR"
      },
      "source": [
        "### Which batsman has been most consistent among top 10 run getters?"
      ]
    },
    {
      "cell_type": "code",
      "execution_count": 84,
      "metadata": {
        "colab": {
          "base_uri": "https://localhost:8080/",
          "height": 735
        },
        "id": "G3Q3lWpCStLR",
        "outputId": "003692ea-fdac-493d-8460-6cba6e1b6902"
      },
      "outputs": [
        {
          "data": {
            "text/plain": [
              "(array([-200.,    0.,  200.,  400.,  600.,  800., 1000., 1200.]),\n",
              " [Text(0, 0, ''),\n",
              "  Text(0, 0, ''),\n",
              "  Text(0, 0, ''),\n",
              "  Text(0, 0, ''),\n",
              "  Text(0, 0, ''),\n",
              "  Text(0, 0, ''),\n",
              "  Text(0, 0, ''),\n",
              "  Text(0, 0, '')])"
            ]
          },
          "execution_count": 84,
          "metadata": {},
          "output_type": "execute_result"
        },
        {
          "data": {
            "image/png": "[encoded data removed]",
            "text/plain": [
              "<Figure size 1440x720 with 1 Axes>"
            ]
          },
          "metadata": {
            "needs_background": "light"
          },
          "output_type": "display_data"
        }
      ],
      "source": [
        "consistent_batsman = merge[merge.batsman.isin(['SK Raina', 'V Kohli','RG Sharma','G Gambhir',\n",
        "                                            'RV Uthappa', 'S Dhawan','CH Gayle', 'MS Dhoni',\n",
        "                                            'DA Warner', 'AB de Villiers'])][['batsman','season','total_runs']]\n",
        "\n",
        "consistent_batsman.groupby(['season','batsman'])['total_runs'].sum().unstack().plot(kind = 'box', figsize = (20,10))\n",
        "plt.title(\"Most Consistent batsmen of IPL\", fontsize = 20, fontweight = 'bold')\n",
        "plt.xlabel(\"Batsmen\", size = 25)\n",
        "plt.ylabel(\"Total Runs Scored each season\", size = 25)\n",
        "plt.xticks(size = 15)\n",
        "plt.yticks(size = 15)"
      ]
    },
    {
      "cell_type": "markdown",
      "metadata": {
        "id": "88uDFOZSStLR"
      },
      "source": [
        "- Median score for Raina is above all the top 10 run getters. He has the highest lowest run among all the batsmen across 11 seasons. Considering the highest and lowest season totals and spread of runs, it seems Raina has been most consistent among all."
      ]
    },
    {
      "cell_type": "markdown",
      "metadata": {
        "id": "lWaagogPStLS"
      },
      "source": [
        "### Which bowlers have performed the best?"
      ]
    },
    {
      "cell_type": "code",
      "execution_count": 85,
      "metadata": {
        "colab": {
          "base_uri": "https://localhost:8080/",
          "height": 494
        },
        "id": "ZAtiT10QStLS",
        "outputId": "55b67610-a573-4140-a8eb-08175994dd4c"
      },
      "outputs": [
        {
          "data": {
            "text/plain": [
              "(array([  0.,  25.,  50.,  75., 100., 125., 150., 175., 200.]),\n",
              " [Text(0, 0, ''),\n",
              "  Text(0, 0, ''),\n",
              "  Text(0, 0, ''),\n",
              "  Text(0, 0, ''),\n",
              "  Text(0, 0, ''),\n",
              "  Text(0, 0, ''),\n",
              "  Text(0, 0, ''),\n",
              "  Text(0, 0, ''),\n",
              "  Text(0, 0, '')])"
            ]
          },
          "execution_count": 85,
          "metadata": {},
          "output_type": "execute_result"
        },
        {
          "data": {
            "image/png": "[encoded data removed]",
            "text/plain": [
              "<Figure size 1440x360 with 1 Axes>"
            ]
          },
          "metadata": {
            "needs_background": "light"
          },
          "output_type": "display_data"
        }
      ],
      "source": [
        "merge.groupby('bowler')['player_dismissed'].count().sort_values(ascending = False).head(10).plot(kind = 'bar', \n",
        "                                                color = 'purple', figsize = (20,5))\n",
        "plt.title(\"Top Wicket Takers of IPL\", fontsize = 20, fontweight = 'bold')\n",
        "plt.xlabel(\"Bowler\", size = 25)\n",
        "plt.ylabel(\"Total Wickets Taken\", size = 25)\n",
        "plt.xticks(size = 12)\n",
        "plt.yticks(size = 12)"
      ]
    },
    {
      "cell_type": "markdown",
      "metadata": {
        "id": "MN4vkAvdStLS"
      },
      "source": [
        "- Malinga has taken the most number of wickets in IPL followed by Bravo and Amit Mishra\n",
        "- In top 10 bowlers, 5 are fast and medium pacers while the other 5 are spinners\n",
        "- All 5 spinners are right arm spinners and 2 are leg spinners while 3 are off spinners\n",
        "- All 5 pacers are right arm pacers"
      ]
    },
    {
      "cell_type": "markdown",
      "metadata": {
        "id": "1xLYZ9rIStLS"
      },
      "source": [
        "### Batsmen with the best strike rates over the years ."
      ]
    },
    {
      "cell_type": "code",
      "execution_count": 86,
      "metadata": {
        "colab": {
          "base_uri": "https://localhost:8080/",
          "height": 363
        },
        "id": "225b3JzyStLS",
        "outputId": "5a466dbf-b9d2-410a-9339-ce54462f2711"
      },
      "outputs": [
        {
          "data": {
            "text/html": [
              "<div>\n",
              "<style scoped>\n",
              "    .dataframe tbody tr th:only-of-type {\n",
              "        vertical-align: middle;\n",
              "    }\n",
              "\n",
              "    .dataframe tbody tr th {\n",
              "        vertical-align: top;\n",
              "    }\n",
              "\n",
              "    .dataframe thead th {\n",
              "        text-align: right;\n",
              "    }\n",
              "</style>\n",
              "<table border=\"1\" class=\"dataframe\">\n",
              "  <thead>\n",
              "    <tr style=\"text-align: right;\">\n",
              "      <th></th>\n",
              "      <th>season</th>\n",
              "      <th>batsman</th>\n",
              "      <th>strike_rate</th>\n",
              "    </tr>\n",
              "  </thead>\n",
              "  <tbody>\n",
              "    <tr>\n",
              "      <th>92</th>\n",
              "      <td>11</td>\n",
              "      <td>CH Gayle</td>\n",
              "      <td>145.640370</td>\n",
              "    </tr>\n",
              "    <tr>\n",
              "      <th>213</th>\n",
              "      <td>10</td>\n",
              "      <td>KA Pollard</td>\n",
              "      <td>141.751527</td>\n",
              "    </tr>\n",
              "    <tr>\n",
              "      <th>112</th>\n",
              "      <td>10</td>\n",
              "      <td>DA Warner</td>\n",
              "      <td>139.523249</td>\n",
              "    </tr>\n",
              "    <tr>\n",
              "      <th>444</th>\n",
              "      <td>11</td>\n",
              "      <td>SR Watson</td>\n",
              "      <td>136.945813</td>\n",
              "    </tr>\n",
              "    <tr>\n",
              "      <th>72</th>\n",
              "      <td>11</td>\n",
              "      <td>BB McCullum</td>\n",
              "      <td>127.332746</td>\n",
              "    </tr>\n",
              "    <tr>\n",
              "      <th>449</th>\n",
              "      <td>10</td>\n",
              "      <td>STR Binny</td>\n",
              "      <td>126.000000</td>\n",
              "    </tr>\n",
              "    <tr>\n",
              "      <th>118</th>\n",
              "      <td>11</td>\n",
              "      <td>DJ Bravo</td>\n",
              "      <td>125.565801</td>\n",
              "    </tr>\n",
              "    <tr>\n",
              "      <th>514</th>\n",
              "      <td>11</td>\n",
              "      <td>Yuvraj Singh</td>\n",
              "      <td>125.283190</td>\n",
              "    </tr>\n",
              "    <tr>\n",
              "      <th>53</th>\n",
              "      <td>10</td>\n",
              "      <td>AT Rayudu</td>\n",
              "      <td>124.058187</td>\n",
              "    </tr>\n",
              "    <tr>\n",
              "      <th>147</th>\n",
              "      <td>11</td>\n",
              "      <td>G Gambhir</td>\n",
              "      <td>119.835414</td>\n",
              "    </tr>\n",
              "  </tbody>\n",
              "</table>\n",
              "</div>"
            ],
            "text/plain": [
              "     season       batsman  strike_rate\n",
              "92       11      CH Gayle   145.640370\n",
              "213      10    KA Pollard   141.751527\n",
              "112      10     DA Warner   139.523249\n",
              "444      11     SR Watson   136.945813\n",
              "72       11   BB McCullum   127.332746\n",
              "449      10     STR Binny   126.000000\n",
              "118      11      DJ Bravo   125.565801\n",
              "514      11  Yuvraj Singh   125.283190\n",
              "53       10     AT Rayudu   124.058187\n",
              "147      11     G Gambhir   119.835414"
            ]
          },
          "execution_count": 86,
          "metadata": {},
          "output_type": "execute_result"
        }
      ],
      "source": [
        "#We will consider players who have played 10 or more seasons\n",
        "no_of_balls = pd.DataFrame(merge.groupby('batsman')['ball'].count()) #total number of matches played by each batsman\n",
        "runs = pd.DataFrame(merge.groupby('batsman')['batsman_runs'].sum()) #total runs of each batsman\n",
        "seasons = pd.DataFrame(merge.groupby('batsman')['season'].nunique()) #season = 1 implies played only 1 season\n",
        "\n",
        "batsman_strike_rate = pd.DataFrame({'balls':no_of_balls['ball'],'run':runs['batsman_runs'],'season':seasons['season']})\n",
        "batsman_strike_rate.reset_index(inplace = True)\n",
        "\n",
        "batsman_strike_rate['strike_rate'] = batsman_strike_rate['run']/batsman_strike_rate['balls']*100\n",
        "highest_strike_rate = batsman_strike_rate[batsman_strike_rate.season.isin([10,11])][['season','batsman','strike_rate']].sort_values(by = 'strike_rate',\n",
        "                                                                                                            ascending = False)\n",
        "\n",
        "highest_strike_rate.head(10)"
      ]
    },
    {
      "cell_type": "code",
      "execution_count": 87,
      "metadata": {
        "colab": {
          "base_uri": "https://localhost:8080/",
          "height": 470
        },
        "id": "No2N7c3wStLT",
        "outputId": "dbd79420-300b-4f77-83ba-2258eaec9f19"
      },
      "outputs": [
        {
          "data": {
            "text/plain": [
              "(array([  0.,  20.,  40.,  60.,  80., 100., 120., 140., 160.]),\n",
              " [Text(0, 0, ''),\n",
              "  Text(0, 0, ''),\n",
              "  Text(0, 0, ''),\n",
              "  Text(0, 0, ''),\n",
              "  Text(0, 0, ''),\n",
              "  Text(0, 0, ''),\n",
              "  Text(0, 0, ''),\n",
              "  Text(0, 0, ''),\n",
              "  Text(0, 0, '')])"
            ]
          },
          "execution_count": 87,
          "metadata": {},
          "output_type": "execute_result"
        },
        {
          "data": {
            "image/png": "[encoded data removed]",
            "text/plain": [
              "<Figure size 1440x432 with 1 Axes>"
            ]
          },
          "metadata": {
            "needs_background": "light"
          },
          "output_type": "display_data"
        }
      ],
      "source": [
        "plt.figure(figsize = (20,6))\n",
        "sns.barplot(x='batsman', y='strike_rate', data = highest_strike_rate.head(10), hue = 'season')\n",
        "plt.title(\"Highest strike rates in IPL\",fontsize= 30, fontweight = 'bold')\n",
        "plt.xlabel(\"Player\", size = 25)\n",
        "plt.ylabel(\"Strike Rate\", size = 25)\n",
        "plt.xticks(size = 14)\n",
        "plt.yticks(size = 14)"
      ]
    },
    {
      "cell_type": "markdown",
      "metadata": {
        "id": "zrOkXGVyStLT"
      },
      "source": [
        "- AB de Villiers, Gayle have the highest strike rates in IPL. They are the big hitters and can win any match on their day\n",
        "- One surprise here is that Harbhajan Singh who is a bowler has a strike rate of 130+ and comes before Rohit Sharma in ranking"
      ]
    },
    {
      "cell_type": "markdown",
      "metadata": {
        "id": "2hRShR10StLT"
      },
      "source": [
        "### Bowlers with maximum number of extras."
      ]
    },
    {
      "cell_type": "code",
      "execution_count": 88,
      "metadata": {
        "colab": {
          "base_uri": "https://localhost:8080/",
          "height": 512
        },
        "id": "eShvSxFiStLT",
        "outputId": "82fb3d21-a36f-47f3-b81b-5425ca5b8287"
      },
      "outputs": [
        {
          "data": {
            "image/png": "[encoded data removed]",
            "text/plain": [
              "<Figure size 792x432 with 1 Axes>"
            ]
          },
          "metadata": {
            "needs_background": "light"
          },
          "output_type": "display_data"
        },
        {
          "data": {
            "text/html": [
              "<div>\n",
              "<style scoped>\n",
              "    .dataframe tbody tr th:only-of-type {\n",
              "        vertical-align: middle;\n",
              "    }\n",
              "\n",
              "    .dataframe tbody tr th {\n",
              "        vertical-align: top;\n",
              "    }\n",
              "\n",
              "    .dataframe thead th {\n",
              "        text-align: right;\n",
              "    }\n",
              "</style>\n",
              "<table border=\"1\" class=\"dataframe\">\n",
              "  <thead>\n",
              "    <tr style=\"text-align: right;\">\n",
              "      <th></th>\n",
              "      <th>SL Malinga</th>\n",
              "      <th>P Kumar</th>\n",
              "      <th>UT Yadav</th>\n",
              "      <th>DJ Bravo</th>\n",
              "      <th>B Kumar</th>\n",
              "      <th>SR Watson</th>\n",
              "      <th>I Sharma</th>\n",
              "      <th>RP Singh</th>\n",
              "      <th>DW Steyn</th>\n",
              "      <th>R Ashwin</th>\n",
              "    </tr>\n",
              "  </thead>\n",
              "  <tbody>\n",
              "    <tr>\n",
              "      <th>bowler</th>\n",
              "      <td>221</td>\n",
              "      <td>185</td>\n",
              "      <td>180</td>\n",
              "      <td>176</td>\n",
              "      <td>162</td>\n",
              "      <td>155</td>\n",
              "      <td>151</td>\n",
              "      <td>145</td>\n",
              "      <td>139</td>\n",
              "      <td>133</td>\n",
              "    </tr>\n",
              "  </tbody>\n",
              "</table>\n",
              "</div>"
            ],
            "text/plain": [
              "        SL Malinga  P Kumar  UT Yadav  DJ Bravo  B Kumar  SR Watson  I Sharma  \\\n",
              "bowler         221      185       180       176      162        155       151   \n",
              "\n",
              "        RP Singh  DW Steyn  R Ashwin  \n",
              "bowler       145       139       133  "
            ]
          },
          "execution_count": 88,
          "metadata": {},
          "output_type": "execute_result"
        }
      ],
      "source": [
        "extra = deliveries[deliveries['extra_runs']!=0]['bowler'].value_counts()[:10]\n",
        "extra.plot(kind='bar', figsize=(11,6), title='Bowlers who have bowled maximum number of Extra balls')\n",
        "\n",
        "plt.xlabel('BOWLER')\n",
        "plt.ylabel('BALLS')\n",
        "plt.show()\n",
        "\n",
        "extra = pd.DataFrame(extra)\n",
        "extra.T\n"
      ]
    },
    {
      "cell_type": "markdown",
      "metadata": {
        "id": "LsaOAYYPStLU"
      },
      "source": [
        "### Which bowlers have picked up wickets more frequently?"
      ]
    },
    {
      "cell_type": "code",
      "execution_count": 89,
      "metadata": {
        "id": "y4SAdfYyStLU"
      },
      "outputs": [],
      "source": [
        "#strike_rate = balls bowled by wickets taken\n",
        "balls_bowled = pd.DataFrame(merge.groupby('bowler')['ball'].count())\n",
        "wickets_taken = pd.DataFrame(merge[merge['dismissal_kind'] != 'no dismissal'].groupby('bowler')['dismissal_kind'].count())\n",
        "seasons_played = pd.DataFrame(merge.groupby('bowler')['season'].nunique())\n",
        "bowler_strike_rate = pd.DataFrame({'balls':balls_bowled['ball'],'wickets':wickets_taken['dismissal_kind'],\n",
        "                          'season':seasons_played['season']})\n",
        "bowler_strike_rate.reset_index(inplace = True)"
      ]
    },
    {
      "cell_type": "code",
      "execution_count": 90,
      "metadata": {
        "colab": {
          "base_uri": "https://localhost:8080/",
          "height": 206
        },
        "id": "1xacb1EPStLU",
        "outputId": "15b4cc44-4260-4901-80f1-4826428fa6a3"
      },
      "outputs": [
        {
          "data": {
            "text/html": [
              "<style type=\"text/css\">\n",
              "#T_e7ac0_row0_col0, #T_e7ac0_row0_col2, #T_e7ac0_row0_col4, #T_e7ac0_row1_col0, #T_e7ac0_row1_col2, #T_e7ac0_row1_col4, #T_e7ac0_row2_col0, #T_e7ac0_row2_col2, #T_e7ac0_row2_col4, #T_e7ac0_row3_col0, #T_e7ac0_row3_col2, #T_e7ac0_row3_col4, #T_e7ac0_row4_col0, #T_e7ac0_row4_col2, #T_e7ac0_row4_col4 {\n",
              "  background-color: skyblue;\n",
              "}\n",
              "</style>\n",
              "<table id=\"T_e7ac0\">\n",
              "  <thead>\n",
              "    <tr>\n",
              "      <th class=\"blank level0\" >&nbsp;</th>\n",
              "      <th id=\"T_e7ac0_level0_col0\" class=\"col_heading level0 col0\" >bowler</th>\n",
              "      <th id=\"T_e7ac0_level0_col1\" class=\"col_heading level0 col1\" >balls</th>\n",
              "      <th id=\"T_e7ac0_level0_col2\" class=\"col_heading level0 col2\" >wickets</th>\n",
              "      <th id=\"T_e7ac0_level0_col3\" class=\"col_heading level0 col3\" >season</th>\n",
              "      <th id=\"T_e7ac0_level0_col4\" class=\"col_heading level0 col4\" >strike_rate</th>\n",
              "    </tr>\n",
              "  </thead>\n",
              "  <tbody>\n",
              "    <tr>\n",
              "      <th id=\"T_e7ac0_level0_row0\" class=\"row_heading level0 row0\" >134</th>\n",
              "      <td id=\"T_e7ac0_row0_col0\" class=\"data row0 col0\" >Imran Tahir</td>\n",
              "      <td id=\"T_e7ac0_row0_col1\" class=\"data row0 col1\" >1249</td>\n",
              "      <td id=\"T_e7ac0_row0_col2\" class=\"data row0 col2\" >82</td>\n",
              "      <td id=\"T_e7ac0_row0_col3\" class=\"data row0 col3\" >6</td>\n",
              "      <td id=\"T_e7ac0_row0_col4\" class=\"data row0 col4\" >15.231707</td>\n",
              "    </tr>\n",
              "    <tr>\n",
              "      <th id=\"T_e7ac0_level0_row1\" class=\"row_heading level0 row1\" >340</th>\n",
              "      <td id=\"T_e7ac0_row1_col0\" class=\"data row1 col0\" >SL Malinga</td>\n",
              "      <td id=\"T_e7ac0_row1_col1\" class=\"data row1 col1\" >2974</td>\n",
              "      <td id=\"T_e7ac0_row1_col2\" class=\"data row1 col2\" >188</td>\n",
              "      <td id=\"T_e7ac0_row1_col3\" class=\"data row1 col3\" >9</td>\n",
              "      <td id=\"T_e7ac0_row1_col4\" class=\"data row1 col4\" >15.819149</td>\n",
              "    </tr>\n",
              "    <tr>\n",
              "      <th id=\"T_e7ac0_level0_row2\" class=\"row_heading level0 row2\" >93</th>\n",
              "      <td id=\"T_e7ac0_row2_col0\" class=\"data row2 col0\" >DJ Bravo</td>\n",
              "      <td id=\"T_e7ac0_row2_col1\" class=\"data row2 col1\" >2711</td>\n",
              "      <td id=\"T_e7ac0_row2_col2\" class=\"data row2 col2\" >168</td>\n",
              "      <td id=\"T_e7ac0_row2_col3\" class=\"data row2 col3\" >10</td>\n",
              "      <td id=\"T_e7ac0_row2_col4\" class=\"data row2 col4\" >16.136905</td>\n",
              "    </tr>\n",
              "    <tr>\n",
              "      <th id=\"T_e7ac0_level0_row3\" class=\"row_heading level0 row3\" >9</th>\n",
              "      <td id=\"T_e7ac0_row3_col0\" class=\"data row3 col0\" >A Nehra</td>\n",
              "      <td id=\"T_e7ac0_row3_col1\" class=\"data row3 col1\" >1974</td>\n",
              "      <td id=\"T_e7ac0_row3_col2\" class=\"data row3 col2\" >121</td>\n",
              "      <td id=\"T_e7ac0_row3_col3\" class=\"data row3 col3\" >9</td>\n",
              "      <td id=\"T_e7ac0_row3_col4\" class=\"data row3 col4\" >16.314050</td>\n",
              "    </tr>\n",
              "    <tr>\n",
              "      <th id=\"T_e7ac0_level0_row4\" class=\"row_heading level0 row4\" >225</th>\n",
              "      <td id=\"T_e7ac0_row4_col0\" class=\"data row4 col0\" >MM Patel</td>\n",
              "      <td id=\"T_e7ac0_row4_col1\" class=\"data row4 col1\" >1382</td>\n",
              "      <td id=\"T_e7ac0_row4_col2\" class=\"data row4 col2\" >82</td>\n",
              "      <td id=\"T_e7ac0_row4_col3\" class=\"data row4 col3\" >7</td>\n",
              "      <td id=\"T_e7ac0_row4_col4\" class=\"data row4 col4\" >16.853659</td>\n",
              "    </tr>\n",
              "  </tbody>\n",
              "</table>\n"
            ],
            "text/plain": [
              "<pandas.io.formats.style.Styler at 0x1750a30d9d0>"
            ]
          },
          "execution_count": 90,
          "metadata": {},
          "output_type": "execute_result"
        }
      ],
      "source": [
        "bowler_strike_rate['strike_rate'] = bowler_strike_rate['balls']/bowler_strike_rate['wickets']\n",
        "def highlight_cols(s):\n",
        "    color = 'skyblue'\n",
        "    return 'background-color: %s' % color\n",
        "#Strike rate for bowlers who have taken more than 50 wickets\n",
        "best_bowling_strike_rate = bowler_strike_rate[bowler_strike_rate['wickets'] > 50].sort_values(by = 'strike_rate', ascending = True)\n",
        "best_bowling_strike_rate.head().style.applymap(highlight_cols, subset=pd.IndexSlice[:, ['bowler', 'wickets','strike_rate']])"
      ]
    },
    {
      "cell_type": "markdown",
      "metadata": {
        "id": "b3_iNHtZStLU"
      },
      "source": [
        "### Q1. As a sports analysts, The most successful teams, players & factors contributing win or loss of a team:"
      ]
    },
    {
      "cell_type": "markdown",
      "metadata": {
        "id": "QAlkZsK-StLU"
      },
      "source": [
        "- Mumbai Indians is the most successful team in IPL and has won the most number of toss.\n",
        "- There were more matches won by chasing the total(419 matches) than defending(350 matches).\n",
        "- When defending a total, the biggest victory was by 146 runs(Mumbai Indians defeated Delhi Daredevils by 146 runs on 06 May 2017 at Feroz Shah Kotla stadium, Delhi).\n",
        "- When chasing a target, the biggest victory was by 10 wickets(without losing any wickets) and there were 11 such instances.\n",
        "- The Mumbai city has hosted the most number of IPL matches.\n",
        "- Chris Gayle has won the maximum number of player of the match title.\n",
        "- S. Ravi(Sundaram Ravi) has officiated the most number of IPL matches on-field.\n",
        "- Eden Gardens has hosted the maximum number of IPL matches.\n",
        "- If a team wins a toss choose to field first as it has highest probablity of winning"
      ]
    },
    {
      "cell_type": "markdown",
      "metadata": {
        "id": "8bEdmkqSStLV"
      },
      "source": [
        "### Q2. Teams or Players a company should endorse for its products."
      ]
    },
    {
      "cell_type": "markdown",
      "metadata": {
        "id": "6_gm16FBStLV"
      },
      "source": [
        "- If the franchise is looking for a consistant batsman who needs to score good amount of runs then go for V Kohli, S Raina, Rohit Sharma , David Warner...\n",
        "- If the franchise is looking for a game changing batsman then go for Chris Gayle, AB deVillers, R Sharma , MS Dhoni...\n",
        "- If the franchise is looking for a batsman who could score good amount of runs every match the go for DA Warner, CH Gayle, V Kohli,AB de Villiers,S Dhawan\n",
        "- If the franchise needs the best finisher in lower order having good strike rate then go for CH Gayle,KA Pollard, DA Warner,SR Watson,BB McCullum\n",
        "- If the franchise need a experienced bowler then go for Harbhajan Singh ,A Mishra,PP Chawla ,R Ashwin,SL Malinga,DJ Bravo\n",
        "- If the franchise need a wicket taking bowler then go for SL Malinga,DJ Bravo,A Mishra ,Harbhajan Singh, PP Chawla\n",
        "- If the franchise need a bowler bowling most number of dot balls then go for Harbhajan Singh,SL Malinga,B Kumar,A Mishra,PP Chawla\n",
        "- If the franchise need a bowler with good economy then go for DW Steyn ,M Muralitharan ,R Ashwin,SP Narine ,Harbhajan Singh"
      ]
    },
    {
      "cell_type": "markdown",
      "metadata": {
        "id": "W92zwbS4StLV"
      },
      "source": [
        "> Thank You !"
      ]
    }
  ],
  "metadata": {
    "colab": {
      "collapsed_sections": [
        "DAA2Cy_LStLF",
        "YgnR4cYIStLH"
      ],
      "name": "Exploratory Data Analysis - Sports.ipynb",
      "provenance": []
    },
    "kernelspec": {
      "display_name": "Python 3.9.5 64-bit",
      "language": "python",
      "name": "python3"
    },
    "language_info": {
      "codemirror_mode": {
        "name": "ipython",
        "version": 3
      },
      "file_extension": ".py",
      "mimetype": "text/x-python",
      "name": "python",
      "nbconvert_exporter": "python",
      "pygments_lexer": "ipython3",
      "version": "3.9.5"
    },
    "vscode": {
      "interpreter": {
        "hash": "25034407fed5d681614dac11a1c0537e8cb49e3a8883c071303eea01322943d9"
      }
    }
  },
  "nbformat": 4,
  "nbformat_minor": 0
}
